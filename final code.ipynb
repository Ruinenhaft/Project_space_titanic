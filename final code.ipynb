{
  "nbformat": 4,
  "nbformat_minor": 0,
  "metadata": {
    "colab": {
      "provenance": [],
      "toc_visible": true
    },
    "kernelspec": {
      "name": "python3",
      "display_name": "Python 3"
    },
    "language_info": {
      "name": "python"
    }
  },
  "cells": [
    {
      "cell_type": "code",
      "execution_count": null,
      "metadata": {
        "id": "khUP6bf7YsDm"
      },
      "outputs": [],
      "source": [
        "import pandas as pd\n",
        "import numpy as np\n",
        "import matplotlib.pyplot as plt\n",
        "import seaborn as sns"
      ]
    },
    {
      "cell_type": "markdown",
      "source": [
        "# 데이터 불러오기 및 분포 확인"
      ],
      "metadata": {
        "id": "mr78SQvr7sww"
      }
    },
    {
      "cell_type": "code",
      "source": [
        "#@title 데이터 불러오기\n",
        "train_url = 'https://raw.githubusercontent.com/Ruinenhaft/Project_space_titanic/main/data/train.csv'\n",
        "test_url = 'https://raw.githubusercontent.com/Ruinenhaft/Project_space_titanic/main/data/test.csv'\n",
        "sample_submission_url = 'https://raw.githubusercontent.com/Ruinenhaft/Project_space_titanic/main/data/sample_submission.csv'\n",
        "train_raw = pd.read_csv(train_url)\n",
        "test_raw = pd.read_csv(test_url)\n",
        "sample_submission = pd.read_csv(sample_submission_url)\n",
        "train_raw.head(10)"
      ],
      "metadata": {
        "colab": {
          "base_uri": "https://localhost:8080/",
          "height": 600
        },
        "id": "U0-J2EyIbAps",
        "outputId": "c75473f3-0952-4255-bb41-5877d45a2421"
      },
      "execution_count": null,
      "outputs": [
        {
          "output_type": "execute_result",
          "data": {
            "text/plain": [
              "  PassengerId HomePlanet CryoSleep  Cabin    Destination   Age    VIP  \\\n",
              "0     0001_01     Europa     False  B/0/P    TRAPPIST-1e  39.0  False   \n",
              "1     0002_01      Earth     False  F/0/S    TRAPPIST-1e  24.0  False   \n",
              "2     0003_01     Europa     False  A/0/S    TRAPPIST-1e  58.0   True   \n",
              "3     0003_02     Europa     False  A/0/S    TRAPPIST-1e  33.0  False   \n",
              "4     0004_01      Earth     False  F/1/S    TRAPPIST-1e  16.0  False   \n",
              "5     0005_01      Earth     False  F/0/P  PSO J318.5-22  44.0  False   \n",
              "6     0006_01      Earth     False  F/2/S    TRAPPIST-1e  26.0  False   \n",
              "7     0006_02      Earth      True  G/0/S    TRAPPIST-1e  28.0  False   \n",
              "8     0007_01      Earth     False  F/3/S    TRAPPIST-1e  35.0  False   \n",
              "9     0008_01     Europa      True  B/1/P    55 Cancri e  14.0  False   \n",
              "\n",
              "   RoomService  FoodCourt  ShoppingMall     Spa  VRDeck                Name  \\\n",
              "0          0.0        0.0           0.0     0.0     0.0     Maham Ofracculy   \n",
              "1        109.0        9.0          25.0   549.0    44.0        Juanna Vines   \n",
              "2         43.0     3576.0           0.0  6715.0    49.0       Altark Susent   \n",
              "3          0.0     1283.0         371.0  3329.0   193.0        Solam Susent   \n",
              "4        303.0       70.0         151.0   565.0     2.0   Willy Santantines   \n",
              "5          0.0      483.0           0.0   291.0     0.0   Sandie Hinetthews   \n",
              "6         42.0     1539.0           3.0     0.0     0.0  Billex Jacostaffey   \n",
              "7          0.0        0.0           0.0     0.0     NaN  Candra Jacostaffey   \n",
              "8          0.0      785.0          17.0   216.0     0.0       Andona Beston   \n",
              "9          0.0        0.0           0.0     0.0     0.0      Erraiam Flatic   \n",
              "\n",
              "   Transported  \n",
              "0        False  \n",
              "1         True  \n",
              "2        False  \n",
              "3        False  \n",
              "4         True  \n",
              "5         True  \n",
              "6         True  \n",
              "7         True  \n",
              "8         True  \n",
              "9         True  "
            ],
            "text/html": [
              "\n",
              "  <div id=\"df-48a5e268-f752-4420-a0a8-d87654ed77e0\">\n",
              "    <div class=\"colab-df-container\">\n",
              "      <div>\n",
              "<style scoped>\n",
              "    .dataframe tbody tr th:only-of-type {\n",
              "        vertical-align: middle;\n",
              "    }\n",
              "\n",
              "    .dataframe tbody tr th {\n",
              "        vertical-align: top;\n",
              "    }\n",
              "\n",
              "    .dataframe thead th {\n",
              "        text-align: right;\n",
              "    }\n",
              "</style>\n",
              "<table border=\"1\" class=\"dataframe\">\n",
              "  <thead>\n",
              "    <tr style=\"text-align: right;\">\n",
              "      <th></th>\n",
              "      <th>PassengerId</th>\n",
              "      <th>HomePlanet</th>\n",
              "      <th>CryoSleep</th>\n",
              "      <th>Cabin</th>\n",
              "      <th>Destination</th>\n",
              "      <th>Age</th>\n",
              "      <th>VIP</th>\n",
              "      <th>RoomService</th>\n",
              "      <th>FoodCourt</th>\n",
              "      <th>ShoppingMall</th>\n",
              "      <th>Spa</th>\n",
              "      <th>VRDeck</th>\n",
              "      <th>Name</th>\n",
              "      <th>Transported</th>\n",
              "    </tr>\n",
              "  </thead>\n",
              "  <tbody>\n",
              "    <tr>\n",
              "      <th>0</th>\n",
              "      <td>0001_01</td>\n",
              "      <td>Europa</td>\n",
              "      <td>False</td>\n",
              "      <td>B/0/P</td>\n",
              "      <td>TRAPPIST-1e</td>\n",
              "      <td>39.0</td>\n",
              "      <td>False</td>\n",
              "      <td>0.0</td>\n",
              "      <td>0.0</td>\n",
              "      <td>0.0</td>\n",
              "      <td>0.0</td>\n",
              "      <td>0.0</td>\n",
              "      <td>Maham Ofracculy</td>\n",
              "      <td>False</td>\n",
              "    </tr>\n",
              "    <tr>\n",
              "      <th>1</th>\n",
              "      <td>0002_01</td>\n",
              "      <td>Earth</td>\n",
              "      <td>False</td>\n",
              "      <td>F/0/S</td>\n",
              "      <td>TRAPPIST-1e</td>\n",
              "      <td>24.0</td>\n",
              "      <td>False</td>\n",
              "      <td>109.0</td>\n",
              "      <td>9.0</td>\n",
              "      <td>25.0</td>\n",
              "      <td>549.0</td>\n",
              "      <td>44.0</td>\n",
              "      <td>Juanna Vines</td>\n",
              "      <td>True</td>\n",
              "    </tr>\n",
              "    <tr>\n",
              "      <th>2</th>\n",
              "      <td>0003_01</td>\n",
              "      <td>Europa</td>\n",
              "      <td>False</td>\n",
              "      <td>A/0/S</td>\n",
              "      <td>TRAPPIST-1e</td>\n",
              "      <td>58.0</td>\n",
              "      <td>True</td>\n",
              "      <td>43.0</td>\n",
              "      <td>3576.0</td>\n",
              "      <td>0.0</td>\n",
              "      <td>6715.0</td>\n",
              "      <td>49.0</td>\n",
              "      <td>Altark Susent</td>\n",
              "      <td>False</td>\n",
              "    </tr>\n",
              "    <tr>\n",
              "      <th>3</th>\n",
              "      <td>0003_02</td>\n",
              "      <td>Europa</td>\n",
              "      <td>False</td>\n",
              "      <td>A/0/S</td>\n",
              "      <td>TRAPPIST-1e</td>\n",
              "      <td>33.0</td>\n",
              "      <td>False</td>\n",
              "      <td>0.0</td>\n",
              "      <td>1283.0</td>\n",
              "      <td>371.0</td>\n",
              "      <td>3329.0</td>\n",
              "      <td>193.0</td>\n",
              "      <td>Solam Susent</td>\n",
              "      <td>False</td>\n",
              "    </tr>\n",
              "    <tr>\n",
              "      <th>4</th>\n",
              "      <td>0004_01</td>\n",
              "      <td>Earth</td>\n",
              "      <td>False</td>\n",
              "      <td>F/1/S</td>\n",
              "      <td>TRAPPIST-1e</td>\n",
              "      <td>16.0</td>\n",
              "      <td>False</td>\n",
              "      <td>303.0</td>\n",
              "      <td>70.0</td>\n",
              "      <td>151.0</td>\n",
              "      <td>565.0</td>\n",
              "      <td>2.0</td>\n",
              "      <td>Willy Santantines</td>\n",
              "      <td>True</td>\n",
              "    </tr>\n",
              "    <tr>\n",
              "      <th>5</th>\n",
              "      <td>0005_01</td>\n",
              "      <td>Earth</td>\n",
              "      <td>False</td>\n",
              "      <td>F/0/P</td>\n",
              "      <td>PSO J318.5-22</td>\n",
              "      <td>44.0</td>\n",
              "      <td>False</td>\n",
              "      <td>0.0</td>\n",
              "      <td>483.0</td>\n",
              "      <td>0.0</td>\n",
              "      <td>291.0</td>\n",
              "      <td>0.0</td>\n",
              "      <td>Sandie Hinetthews</td>\n",
              "      <td>True</td>\n",
              "    </tr>\n",
              "    <tr>\n",
              "      <th>6</th>\n",
              "      <td>0006_01</td>\n",
              "      <td>Earth</td>\n",
              "      <td>False</td>\n",
              "      <td>F/2/S</td>\n",
              "      <td>TRAPPIST-1e</td>\n",
              "      <td>26.0</td>\n",
              "      <td>False</td>\n",
              "      <td>42.0</td>\n",
              "      <td>1539.0</td>\n",
              "      <td>3.0</td>\n",
              "      <td>0.0</td>\n",
              "      <td>0.0</td>\n",
              "      <td>Billex Jacostaffey</td>\n",
              "      <td>True</td>\n",
              "    </tr>\n",
              "    <tr>\n",
              "      <th>7</th>\n",
              "      <td>0006_02</td>\n",
              "      <td>Earth</td>\n",
              "      <td>True</td>\n",
              "      <td>G/0/S</td>\n",
              "      <td>TRAPPIST-1e</td>\n",
              "      <td>28.0</td>\n",
              "      <td>False</td>\n",
              "      <td>0.0</td>\n",
              "      <td>0.0</td>\n",
              "      <td>0.0</td>\n",
              "      <td>0.0</td>\n",
              "      <td>NaN</td>\n",
              "      <td>Candra Jacostaffey</td>\n",
              "      <td>True</td>\n",
              "    </tr>\n",
              "    <tr>\n",
              "      <th>8</th>\n",
              "      <td>0007_01</td>\n",
              "      <td>Earth</td>\n",
              "      <td>False</td>\n",
              "      <td>F/3/S</td>\n",
              "      <td>TRAPPIST-1e</td>\n",
              "      <td>35.0</td>\n",
              "      <td>False</td>\n",
              "      <td>0.0</td>\n",
              "      <td>785.0</td>\n",
              "      <td>17.0</td>\n",
              "      <td>216.0</td>\n",
              "      <td>0.0</td>\n",
              "      <td>Andona Beston</td>\n",
              "      <td>True</td>\n",
              "    </tr>\n",
              "    <tr>\n",
              "      <th>9</th>\n",
              "      <td>0008_01</td>\n",
              "      <td>Europa</td>\n",
              "      <td>True</td>\n",
              "      <td>B/1/P</td>\n",
              "      <td>55 Cancri e</td>\n",
              "      <td>14.0</td>\n",
              "      <td>False</td>\n",
              "      <td>0.0</td>\n",
              "      <td>0.0</td>\n",
              "      <td>0.0</td>\n",
              "      <td>0.0</td>\n",
              "      <td>0.0</td>\n",
              "      <td>Erraiam Flatic</td>\n",
              "      <td>True</td>\n",
              "    </tr>\n",
              "  </tbody>\n",
              "</table>\n",
              "</div>\n",
              "      <button class=\"colab-df-convert\" onclick=\"convertToInteractive('df-48a5e268-f752-4420-a0a8-d87654ed77e0')\"\n",
              "              title=\"Convert this dataframe to an interactive table.\"\n",
              "              style=\"display:none;\">\n",
              "        \n",
              "  <svg xmlns=\"http://www.w3.org/2000/svg\" height=\"24px\"viewBox=\"0 0 24 24\"\n",
              "       width=\"24px\">\n",
              "    <path d=\"M0 0h24v24H0V0z\" fill=\"none\"/>\n",
              "    <path d=\"M18.56 5.44l.94 2.06.94-2.06 2.06-.94-2.06-.94-.94-2.06-.94 2.06-2.06.94zm-11 1L8.5 8.5l.94-2.06 2.06-.94-2.06-.94L8.5 2.5l-.94 2.06-2.06.94zm10 10l.94 2.06.94-2.06 2.06-.94-2.06-.94-.94-2.06-.94 2.06-2.06.94z\"/><path d=\"M17.41 7.96l-1.37-1.37c-.4-.4-.92-.59-1.43-.59-.52 0-1.04.2-1.43.59L10.3 9.45l-7.72 7.72c-.78.78-.78 2.05 0 2.83L4 21.41c.39.39.9.59 1.41.59.51 0 1.02-.2 1.41-.59l7.78-7.78 2.81-2.81c.8-.78.8-2.07 0-2.86zM5.41 20L4 18.59l7.72-7.72 1.47 1.35L5.41 20z\"/>\n",
              "  </svg>\n",
              "      </button>\n",
              "      \n",
              "  <style>\n",
              "    .colab-df-container {\n",
              "      display:flex;\n",
              "      flex-wrap:wrap;\n",
              "      gap: 12px;\n",
              "    }\n",
              "\n",
              "    .colab-df-convert {\n",
              "      background-color: #E8F0FE;\n",
              "      border: none;\n",
              "      border-radius: 50%;\n",
              "      cursor: pointer;\n",
              "      display: none;\n",
              "      fill: #1967D2;\n",
              "      height: 32px;\n",
              "      padding: 0 0 0 0;\n",
              "      width: 32px;\n",
              "    }\n",
              "\n",
              "    .colab-df-convert:hover {\n",
              "      background-color: #E2EBFA;\n",
              "      box-shadow: 0px 1px 2px rgba(60, 64, 67, 0.3), 0px 1px 3px 1px rgba(60, 64, 67, 0.15);\n",
              "      fill: #174EA6;\n",
              "    }\n",
              "\n",
              "    [theme=dark] .colab-df-convert {\n",
              "      background-color: #3B4455;\n",
              "      fill: #D2E3FC;\n",
              "    }\n",
              "\n",
              "    [theme=dark] .colab-df-convert:hover {\n",
              "      background-color: #434B5C;\n",
              "      box-shadow: 0px 1px 3px 1px rgba(0, 0, 0, 0.15);\n",
              "      filter: drop-shadow(0px 1px 2px rgba(0, 0, 0, 0.3));\n",
              "      fill: #FFFFFF;\n",
              "    }\n",
              "  </style>\n",
              "\n",
              "      <script>\n",
              "        const buttonEl =\n",
              "          document.querySelector('#df-48a5e268-f752-4420-a0a8-d87654ed77e0 button.colab-df-convert');\n",
              "        buttonEl.style.display =\n",
              "          google.colab.kernel.accessAllowed ? 'block' : 'none';\n",
              "\n",
              "        async function convertToInteractive(key) {\n",
              "          const element = document.querySelector('#df-48a5e268-f752-4420-a0a8-d87654ed77e0');\n",
              "          const dataTable =\n",
              "            await google.colab.kernel.invokeFunction('convertToInteractive',\n",
              "                                                     [key], {});\n",
              "          if (!dataTable) return;\n",
              "\n",
              "          const docLinkHtml = 'Like what you see? Visit the ' +\n",
              "            '<a target=\"_blank\" href=https://colab.research.google.com/notebooks/data_table.ipynb>data table notebook</a>'\n",
              "            + ' to learn more about interactive tables.';\n",
              "          element.innerHTML = '';\n",
              "          dataTable['output_type'] = 'display_data';\n",
              "          await google.colab.output.renderOutput(dataTable, element);\n",
              "          const docLink = document.createElement('div');\n",
              "          docLink.innerHTML = docLinkHtml;\n",
              "          element.appendChild(docLink);\n",
              "        }\n",
              "      </script>\n",
              "    </div>\n",
              "  </div>\n",
              "  "
            ]
          },
          "metadata": {},
          "execution_count": 9
        }
      ]
    },
    {
      "cell_type": "markdown",
      "source": [
        "- PassengerId  \n",
        "승객 고유 ID. gggg-pp 형태로 gggg는 그룹, pp는 그룹 내 번호. 그룹이 같으면 가족인 경우가 많음\n",
        "- HomePlanet  고향 행성\n",
        "- CryoSleep  \n",
        "냉동수면 상태 여부. 냉동수면 상태인 탑승객은 객실에 갇혀있음\n",
        "- Cabin  \n",
        "객실 번호. deck/num/side 형태로 side는 P(Port) 혹은 S(Starboard)\n",
        "- Destination  \n",
        "목적 행성\n",
        "- Age  \n",
        "나이\n",
        "- VIP  \n",
        "VIP 서비스 신청했는지 여부\n",
        "- RoomService, FoodCourt, ShoppingMall, Spa, VRDeck  \n",
        "우주선 내 있는 해당 편의시설에 지불한 금액\n",
        "- Name  \n",
        "이름과 성\n",
        "- Transported  \n",
        "다른 차원으로 전이됐는지 여부. target"
      ],
      "metadata": {
        "id": "aNwunaEVbuMd"
      }
    },
    {
      "cell_type": "code",
      "source": [
        "train_raw.info()"
      ],
      "metadata": {
        "colab": {
          "base_uri": "https://localhost:8080/"
        },
        "id": "gVofDdqX8KlP",
        "outputId": "8526a81c-f496-4e2d-e016-8758e17814bf"
      },
      "execution_count": null,
      "outputs": [
        {
          "output_type": "stream",
          "name": "stdout",
          "text": [
            "<class 'pandas.core.frame.DataFrame'>\n",
            "RangeIndex: 8693 entries, 0 to 8692\n",
            "Data columns (total 14 columns):\n",
            " #   Column        Non-Null Count  Dtype  \n",
            "---  ------        --------------  -----  \n",
            " 0   PassengerId   8693 non-null   object \n",
            " 1   HomePlanet    8492 non-null   object \n",
            " 2   CryoSleep     8476 non-null   object \n",
            " 3   Cabin         8494 non-null   object \n",
            " 4   Destination   8511 non-null   object \n",
            " 5   Age           8514 non-null   float64\n",
            " 6   VIP           8490 non-null   object \n",
            " 7   RoomService   8512 non-null   float64\n",
            " 8   FoodCourt     8510 non-null   float64\n",
            " 9   ShoppingMall  8485 non-null   float64\n",
            " 10  Spa           8510 non-null   float64\n",
            " 11  VRDeck        8505 non-null   float64\n",
            " 12  Name          8493 non-null   object \n",
            " 13  Transported   8693 non-null   bool   \n",
            "dtypes: bool(1), float64(6), object(7)\n",
            "memory usage: 891.5+ KB\n"
          ]
        }
      ]
    },
    {
      "cell_type": "code",
      "source": [
        "train_raw.describe()"
      ],
      "metadata": {
        "colab": {
          "base_uri": "https://localhost:8080/",
          "height": 300
        },
        "id": "E26cvB2L8M0n",
        "outputId": "93d65f67-bf6e-4799-9ca3-2f3c78ac5644"
      },
      "execution_count": null,
      "outputs": [
        {
          "output_type": "execute_result",
          "data": {
            "text/plain": [
              "               Age   RoomService     FoodCourt  ShoppingMall           Spa  \\\n",
              "count  8514.000000   8512.000000   8510.000000   8485.000000   8510.000000   \n",
              "mean     28.827930    224.687617    458.077203    173.729169    311.138778   \n",
              "std      14.489021    666.717663   1611.489240    604.696458   1136.705535   \n",
              "min       0.000000      0.000000      0.000000      0.000000      0.000000   \n",
              "25%      19.000000      0.000000      0.000000      0.000000      0.000000   \n",
              "50%      27.000000      0.000000      0.000000      0.000000      0.000000   \n",
              "75%      38.000000     47.000000     76.000000     27.000000     59.000000   \n",
              "max      79.000000  14327.000000  29813.000000  23492.000000  22408.000000   \n",
              "\n",
              "             VRDeck  \n",
              "count   8505.000000  \n",
              "mean     304.854791  \n",
              "std     1145.717189  \n",
              "min        0.000000  \n",
              "25%        0.000000  \n",
              "50%        0.000000  \n",
              "75%       46.000000  \n",
              "max    24133.000000  "
            ],
            "text/html": [
              "\n",
              "  <div id=\"df-4ed653de-af69-4ced-8db0-37271305819d\">\n",
              "    <div class=\"colab-df-container\">\n",
              "      <div>\n",
              "<style scoped>\n",
              "    .dataframe tbody tr th:only-of-type {\n",
              "        vertical-align: middle;\n",
              "    }\n",
              "\n",
              "    .dataframe tbody tr th {\n",
              "        vertical-align: top;\n",
              "    }\n",
              "\n",
              "    .dataframe thead th {\n",
              "        text-align: right;\n",
              "    }\n",
              "</style>\n",
              "<table border=\"1\" class=\"dataframe\">\n",
              "  <thead>\n",
              "    <tr style=\"text-align: right;\">\n",
              "      <th></th>\n",
              "      <th>Age</th>\n",
              "      <th>RoomService</th>\n",
              "      <th>FoodCourt</th>\n",
              "      <th>ShoppingMall</th>\n",
              "      <th>Spa</th>\n",
              "      <th>VRDeck</th>\n",
              "    </tr>\n",
              "  </thead>\n",
              "  <tbody>\n",
              "    <tr>\n",
              "      <th>count</th>\n",
              "      <td>8514.000000</td>\n",
              "      <td>8512.000000</td>\n",
              "      <td>8510.000000</td>\n",
              "      <td>8485.000000</td>\n",
              "      <td>8510.000000</td>\n",
              "      <td>8505.000000</td>\n",
              "    </tr>\n",
              "    <tr>\n",
              "      <th>mean</th>\n",
              "      <td>28.827930</td>\n",
              "      <td>224.687617</td>\n",
              "      <td>458.077203</td>\n",
              "      <td>173.729169</td>\n",
              "      <td>311.138778</td>\n",
              "      <td>304.854791</td>\n",
              "    </tr>\n",
              "    <tr>\n",
              "      <th>std</th>\n",
              "      <td>14.489021</td>\n",
              "      <td>666.717663</td>\n",
              "      <td>1611.489240</td>\n",
              "      <td>604.696458</td>\n",
              "      <td>1136.705535</td>\n",
              "      <td>1145.717189</td>\n",
              "    </tr>\n",
              "    <tr>\n",
              "      <th>min</th>\n",
              "      <td>0.000000</td>\n",
              "      <td>0.000000</td>\n",
              "      <td>0.000000</td>\n",
              "      <td>0.000000</td>\n",
              "      <td>0.000000</td>\n",
              "      <td>0.000000</td>\n",
              "    </tr>\n",
              "    <tr>\n",
              "      <th>25%</th>\n",
              "      <td>19.000000</td>\n",
              "      <td>0.000000</td>\n",
              "      <td>0.000000</td>\n",
              "      <td>0.000000</td>\n",
              "      <td>0.000000</td>\n",
              "      <td>0.000000</td>\n",
              "    </tr>\n",
              "    <tr>\n",
              "      <th>50%</th>\n",
              "      <td>27.000000</td>\n",
              "      <td>0.000000</td>\n",
              "      <td>0.000000</td>\n",
              "      <td>0.000000</td>\n",
              "      <td>0.000000</td>\n",
              "      <td>0.000000</td>\n",
              "    </tr>\n",
              "    <tr>\n",
              "      <th>75%</th>\n",
              "      <td>38.000000</td>\n",
              "      <td>47.000000</td>\n",
              "      <td>76.000000</td>\n",
              "      <td>27.000000</td>\n",
              "      <td>59.000000</td>\n",
              "      <td>46.000000</td>\n",
              "    </tr>\n",
              "    <tr>\n",
              "      <th>max</th>\n",
              "      <td>79.000000</td>\n",
              "      <td>14327.000000</td>\n",
              "      <td>29813.000000</td>\n",
              "      <td>23492.000000</td>\n",
              "      <td>22408.000000</td>\n",
              "      <td>24133.000000</td>\n",
              "    </tr>\n",
              "  </tbody>\n",
              "</table>\n",
              "</div>\n",
              "      <button class=\"colab-df-convert\" onclick=\"convertToInteractive('df-4ed653de-af69-4ced-8db0-37271305819d')\"\n",
              "              title=\"Convert this dataframe to an interactive table.\"\n",
              "              style=\"display:none;\">\n",
              "        \n",
              "  <svg xmlns=\"http://www.w3.org/2000/svg\" height=\"24px\"viewBox=\"0 0 24 24\"\n",
              "       width=\"24px\">\n",
              "    <path d=\"M0 0h24v24H0V0z\" fill=\"none\"/>\n",
              "    <path d=\"M18.56 5.44l.94 2.06.94-2.06 2.06-.94-2.06-.94-.94-2.06-.94 2.06-2.06.94zm-11 1L8.5 8.5l.94-2.06 2.06-.94-2.06-.94L8.5 2.5l-.94 2.06-2.06.94zm10 10l.94 2.06.94-2.06 2.06-.94-2.06-.94-.94-2.06-.94 2.06-2.06.94z\"/><path d=\"M17.41 7.96l-1.37-1.37c-.4-.4-.92-.59-1.43-.59-.52 0-1.04.2-1.43.59L10.3 9.45l-7.72 7.72c-.78.78-.78 2.05 0 2.83L4 21.41c.39.39.9.59 1.41.59.51 0 1.02-.2 1.41-.59l7.78-7.78 2.81-2.81c.8-.78.8-2.07 0-2.86zM5.41 20L4 18.59l7.72-7.72 1.47 1.35L5.41 20z\"/>\n",
              "  </svg>\n",
              "      </button>\n",
              "      \n",
              "  <style>\n",
              "    .colab-df-container {\n",
              "      display:flex;\n",
              "      flex-wrap:wrap;\n",
              "      gap: 12px;\n",
              "    }\n",
              "\n",
              "    .colab-df-convert {\n",
              "      background-color: #E8F0FE;\n",
              "      border: none;\n",
              "      border-radius: 50%;\n",
              "      cursor: pointer;\n",
              "      display: none;\n",
              "      fill: #1967D2;\n",
              "      height: 32px;\n",
              "      padding: 0 0 0 0;\n",
              "      width: 32px;\n",
              "    }\n",
              "\n",
              "    .colab-df-convert:hover {\n",
              "      background-color: #E2EBFA;\n",
              "      box-shadow: 0px 1px 2px rgba(60, 64, 67, 0.3), 0px 1px 3px 1px rgba(60, 64, 67, 0.15);\n",
              "      fill: #174EA6;\n",
              "    }\n",
              "\n",
              "    [theme=dark] .colab-df-convert {\n",
              "      background-color: #3B4455;\n",
              "      fill: #D2E3FC;\n",
              "    }\n",
              "\n",
              "    [theme=dark] .colab-df-convert:hover {\n",
              "      background-color: #434B5C;\n",
              "      box-shadow: 0px 1px 3px 1px rgba(0, 0, 0, 0.15);\n",
              "      filter: drop-shadow(0px 1px 2px rgba(0, 0, 0, 0.3));\n",
              "      fill: #FFFFFF;\n",
              "    }\n",
              "  </style>\n",
              "\n",
              "      <script>\n",
              "        const buttonEl =\n",
              "          document.querySelector('#df-4ed653de-af69-4ced-8db0-37271305819d button.colab-df-convert');\n",
              "        buttonEl.style.display =\n",
              "          google.colab.kernel.accessAllowed ? 'block' : 'none';\n",
              "\n",
              "        async function convertToInteractive(key) {\n",
              "          const element = document.querySelector('#df-4ed653de-af69-4ced-8db0-37271305819d');\n",
              "          const dataTable =\n",
              "            await google.colab.kernel.invokeFunction('convertToInteractive',\n",
              "                                                     [key], {});\n",
              "          if (!dataTable) return;\n",
              "\n",
              "          const docLinkHtml = 'Like what you see? Visit the ' +\n",
              "            '<a target=\"_blank\" href=https://colab.research.google.com/notebooks/data_table.ipynb>data table notebook</a>'\n",
              "            + ' to learn more about interactive tables.';\n",
              "          element.innerHTML = '';\n",
              "          dataTable['output_type'] = 'display_data';\n",
              "          await google.colab.output.renderOutput(dataTable, element);\n",
              "          const docLink = document.createElement('div');\n",
              "          docLink.innerHTML = docLinkHtml;\n",
              "          element.appendChild(docLink);\n",
              "        }\n",
              "      </script>\n",
              "    </div>\n",
              "  </div>\n",
              "  "
            ]
          },
          "metadata": {},
          "execution_count": 18
        }
      ]
    },
    {
      "cell_type": "code",
      "source": [
        "train_raw.describe(include='O')"
      ],
      "metadata": {
        "colab": {
          "base_uri": "https://localhost:8080/",
          "height": 175
        },
        "id": "A7HpFUhn8Oie",
        "outputId": "05fe2241-fce1-4dc9-b3f0-1a71d3ad7196"
      },
      "execution_count": null,
      "outputs": [
        {
          "output_type": "execute_result",
          "data": {
            "text/plain": [
              "       PassengerId HomePlanet CryoSleep    Cabin  Destination    VIP  \\\n",
              "count         8693       8492      8476     8494         8511   8490   \n",
              "unique        8693          3         2     6560            3      2   \n",
              "top        0001_01      Earth     False  G/734/S  TRAPPIST-1e  False   \n",
              "freq             1       4602      5439        8         5915   8291   \n",
              "\n",
              "                  Name  \n",
              "count             8493  \n",
              "unique            8473  \n",
              "top     Gollux Reedall  \n",
              "freq                 2  "
            ],
            "text/html": [
              "\n",
              "  <div id=\"df-8f81e3da-5775-40bd-b164-73dc8934ef88\">\n",
              "    <div class=\"colab-df-container\">\n",
              "      <div>\n",
              "<style scoped>\n",
              "    .dataframe tbody tr th:only-of-type {\n",
              "        vertical-align: middle;\n",
              "    }\n",
              "\n",
              "    .dataframe tbody tr th {\n",
              "        vertical-align: top;\n",
              "    }\n",
              "\n",
              "    .dataframe thead th {\n",
              "        text-align: right;\n",
              "    }\n",
              "</style>\n",
              "<table border=\"1\" class=\"dataframe\">\n",
              "  <thead>\n",
              "    <tr style=\"text-align: right;\">\n",
              "      <th></th>\n",
              "      <th>PassengerId</th>\n",
              "      <th>HomePlanet</th>\n",
              "      <th>CryoSleep</th>\n",
              "      <th>Cabin</th>\n",
              "      <th>Destination</th>\n",
              "      <th>VIP</th>\n",
              "      <th>Name</th>\n",
              "    </tr>\n",
              "  </thead>\n",
              "  <tbody>\n",
              "    <tr>\n",
              "      <th>count</th>\n",
              "      <td>8693</td>\n",
              "      <td>8492</td>\n",
              "      <td>8476</td>\n",
              "      <td>8494</td>\n",
              "      <td>8511</td>\n",
              "      <td>8490</td>\n",
              "      <td>8493</td>\n",
              "    </tr>\n",
              "    <tr>\n",
              "      <th>unique</th>\n",
              "      <td>8693</td>\n",
              "      <td>3</td>\n",
              "      <td>2</td>\n",
              "      <td>6560</td>\n",
              "      <td>3</td>\n",
              "      <td>2</td>\n",
              "      <td>8473</td>\n",
              "    </tr>\n",
              "    <tr>\n",
              "      <th>top</th>\n",
              "      <td>0001_01</td>\n",
              "      <td>Earth</td>\n",
              "      <td>False</td>\n",
              "      <td>G/734/S</td>\n",
              "      <td>TRAPPIST-1e</td>\n",
              "      <td>False</td>\n",
              "      <td>Gollux Reedall</td>\n",
              "    </tr>\n",
              "    <tr>\n",
              "      <th>freq</th>\n",
              "      <td>1</td>\n",
              "      <td>4602</td>\n",
              "      <td>5439</td>\n",
              "      <td>8</td>\n",
              "      <td>5915</td>\n",
              "      <td>8291</td>\n",
              "      <td>2</td>\n",
              "    </tr>\n",
              "  </tbody>\n",
              "</table>\n",
              "</div>\n",
              "      <button class=\"colab-df-convert\" onclick=\"convertToInteractive('df-8f81e3da-5775-40bd-b164-73dc8934ef88')\"\n",
              "              title=\"Convert this dataframe to an interactive table.\"\n",
              "              style=\"display:none;\">\n",
              "        \n",
              "  <svg xmlns=\"http://www.w3.org/2000/svg\" height=\"24px\"viewBox=\"0 0 24 24\"\n",
              "       width=\"24px\">\n",
              "    <path d=\"M0 0h24v24H0V0z\" fill=\"none\"/>\n",
              "    <path d=\"M18.56 5.44l.94 2.06.94-2.06 2.06-.94-2.06-.94-.94-2.06-.94 2.06-2.06.94zm-11 1L8.5 8.5l.94-2.06 2.06-.94-2.06-.94L8.5 2.5l-.94 2.06-2.06.94zm10 10l.94 2.06.94-2.06 2.06-.94-2.06-.94-.94-2.06-.94 2.06-2.06.94z\"/><path d=\"M17.41 7.96l-1.37-1.37c-.4-.4-.92-.59-1.43-.59-.52 0-1.04.2-1.43.59L10.3 9.45l-7.72 7.72c-.78.78-.78 2.05 0 2.83L4 21.41c.39.39.9.59 1.41.59.51 0 1.02-.2 1.41-.59l7.78-7.78 2.81-2.81c.8-.78.8-2.07 0-2.86zM5.41 20L4 18.59l7.72-7.72 1.47 1.35L5.41 20z\"/>\n",
              "  </svg>\n",
              "      </button>\n",
              "      \n",
              "  <style>\n",
              "    .colab-df-container {\n",
              "      display:flex;\n",
              "      flex-wrap:wrap;\n",
              "      gap: 12px;\n",
              "    }\n",
              "\n",
              "    .colab-df-convert {\n",
              "      background-color: #E8F0FE;\n",
              "      border: none;\n",
              "      border-radius: 50%;\n",
              "      cursor: pointer;\n",
              "      display: none;\n",
              "      fill: #1967D2;\n",
              "      height: 32px;\n",
              "      padding: 0 0 0 0;\n",
              "      width: 32px;\n",
              "    }\n",
              "\n",
              "    .colab-df-convert:hover {\n",
              "      background-color: #E2EBFA;\n",
              "      box-shadow: 0px 1px 2px rgba(60, 64, 67, 0.3), 0px 1px 3px 1px rgba(60, 64, 67, 0.15);\n",
              "      fill: #174EA6;\n",
              "    }\n",
              "\n",
              "    [theme=dark] .colab-df-convert {\n",
              "      background-color: #3B4455;\n",
              "      fill: #D2E3FC;\n",
              "    }\n",
              "\n",
              "    [theme=dark] .colab-df-convert:hover {\n",
              "      background-color: #434B5C;\n",
              "      box-shadow: 0px 1px 3px 1px rgba(0, 0, 0, 0.15);\n",
              "      filter: drop-shadow(0px 1px 2px rgba(0, 0, 0, 0.3));\n",
              "      fill: #FFFFFF;\n",
              "    }\n",
              "  </style>\n",
              "\n",
              "      <script>\n",
              "        const buttonEl =\n",
              "          document.querySelector('#df-8f81e3da-5775-40bd-b164-73dc8934ef88 button.colab-df-convert');\n",
              "        buttonEl.style.display =\n",
              "          google.colab.kernel.accessAllowed ? 'block' : 'none';\n",
              "\n",
              "        async function convertToInteractive(key) {\n",
              "          const element = document.querySelector('#df-8f81e3da-5775-40bd-b164-73dc8934ef88');\n",
              "          const dataTable =\n",
              "            await google.colab.kernel.invokeFunction('convertToInteractive',\n",
              "                                                     [key], {});\n",
              "          if (!dataTable) return;\n",
              "\n",
              "          const docLinkHtml = 'Like what you see? Visit the ' +\n",
              "            '<a target=\"_blank\" href=https://colab.research.google.com/notebooks/data_table.ipynb>data table notebook</a>'\n",
              "            + ' to learn more about interactive tables.';\n",
              "          element.innerHTML = '';\n",
              "          dataTable['output_type'] = 'display_data';\n",
              "          await google.colab.output.renderOutput(dataTable, element);\n",
              "          const docLink = document.createElement('div');\n",
              "          docLink.innerHTML = docLinkHtml;\n",
              "          element.appendChild(docLink);\n",
              "        }\n",
              "      </script>\n",
              "    </div>\n",
              "  </div>\n",
              "  "
            ]
          },
          "metadata": {},
          "execution_count": 20
        }
      ]
    },
    {
      "cell_type": "code",
      "source": [
        "train_raw.isna().sum()"
      ],
      "metadata": {
        "colab": {
          "base_uri": "https://localhost:8080/"
        },
        "id": "tWMi92no8X6a",
        "outputId": "9c20a0fc-d64e-431f-b564-3b7330c4ae0a"
      },
      "execution_count": null,
      "outputs": [
        {
          "output_type": "execute_result",
          "data": {
            "text/plain": [
              "PassengerId       0\n",
              "HomePlanet      201\n",
              "CryoSleep       217\n",
              "Cabin           199\n",
              "Destination     182\n",
              "Age             179\n",
              "VIP             203\n",
              "RoomService     181\n",
              "FoodCourt       183\n",
              "ShoppingMall    208\n",
              "Spa             183\n",
              "VRDeck          188\n",
              "Name            200\n",
              "Transported       0\n",
              "dtype: int64"
            ]
          },
          "metadata": {},
          "execution_count": 21
        }
      ]
    },
    {
      "cell_type": "code",
      "source": [
        "#@title 데이터 분포 확인\n",
        "# HomePlanet\n",
        "plt.figure(figsize=(15, 5))\n",
        "plt.subplot(1, 3, 1)\n",
        "plt.title('Number of passengers by HomePlanet')\n",
        "value_counts = train_raw.HomePlanet.value_counts()\n",
        "sns.barplot(x= value_counts.index, y =value_counts)\n",
        "plt.subplot(1, 3, 2)\n",
        "plt.title('Number of Transported passengers by HomePlanet')\n",
        "value_counts1 = train_raw['HomePlanet'][(train_raw['Transported']== True)].value_counts()\n",
        "sns.barplot(x= value_counts.index, y =value_counts1)\n",
        "plt.subplot(1, 3, 3)\n",
        "plt.title('HomePlanet - Transported ratio')\n",
        "value_counts2 = train_raw.groupby(['HomePlanet'])['Transported'].mean()\n",
        "sns.barplot(x= value_counts.index, y =value_counts2)\n",
        "plt.tight_layout()\n",
        "plt.show()"
      ],
      "metadata": {
        "colab": {
          "base_uri": "https://localhost:8080/",
          "height": 369
        },
        "id": "40pkYFTQ8-ln",
        "outputId": "5870c2c4-9151-40c8-d2a5-7389b7a3aa95"
      },
      "execution_count": null,
      "outputs": [
        {
          "output_type": "display_data",
          "data": {
            "text/plain": [
              "<Figure size 1080x360 with 3 Axes>"
            ],
            "image/png": "[encoded data removed]"
          },
          "metadata": {
            "needs_background": "light"
          }
        }
      ]
    },
    {
      "cell_type": "code",
      "source": [
        "# CryoSleep\n",
        "sns.barplot(y='Transported', x='CryoSleep', data=train_raw)\n",
        "plt.show()"
      ],
      "metadata": {
        "colab": {
          "base_uri": "https://localhost:8080/",
          "height": 279
        },
        "id": "R9dDLLO19QaT",
        "outputId": "8a28dd28-71de-4391-9d41-1ea10413b007"
      },
      "execution_count": null,
      "outputs": [
        {
          "output_type": "display_data",
          "data": {
            "text/plain": [
              "<Figure size 432x288 with 1 Axes>"
            ],
            "image/png": "[encoded data removed]"
          },
          "metadata": {
            "needs_background": "light"
          }
        }
      ]
    },
    {
      "cell_type": "code",
      "source": [
        "# Destination\n",
        "plt.figure(figsize=(15, 5))\n",
        "plt.subplot(1, 3, 1)\n",
        "plt.title('Number of passengers by Destination')\n",
        "value_counts = train_raw.Destination.value_counts()\n",
        "sns.barplot(x= value_counts.index, y =value_counts)\n",
        "plt.subplot(1, 3, 2)\n",
        "plt.title('Number of Transported passengers by Destination')\n",
        "value_counts1 = train_raw['Destination'][( train_raw['Transported']== True)].value_counts()\n",
        "sns.barplot(x= value_counts.index, y =value_counts1)\n",
        "plt.subplot(1, 3, 3)\n",
        "plt.title('Destination - Transported ratio')\n",
        "value_counts2 =  train_raw.groupby(['Destination'])['Transported'].mean()\n",
        "sns.barplot(x= value_counts.index, y =value_counts2)\n",
        "plt.tight_layout()\n",
        "plt.show()"
      ],
      "metadata": {
        "colab": {
          "base_uri": "https://localhost:8080/",
          "height": 369
        },
        "id": "SZoqFYbb8lc9",
        "outputId": "bb32619d-e8bc-4a02-d3b3-4edbf00d967c"
      },
      "execution_count": null,
      "outputs": [
        {
          "output_type": "display_data",
          "data": {
            "text/plain": [
              "<Figure size 1080x360 with 3 Axes>"
            ],
            "image/png": "[encoded data removed]"
          },
          "metadata": {
            "needs_background": "light"
          }
        }
      ]
    },
    {
      "cell_type": "code",
      "source": [
        "# 편의시설 돈 쓴 여부\n",
        "# RoomService, FoodCourt, ShoppingMall, Spa, VRDeck 컬럼 결측치에 0 입력\n",
        "for feature in ['RoomService', 'FoodCourt', 'ShoppingMall', 'Spa', 'VRDeck'] :\n",
        "    train_raw[feature].fillna(0, inplace=True)\n",
        "# RoomService, FoodCourt, ShoppingMall, Spa, VRDeck컬럼에 값이 있으면 1 없으면 0인 컬럼 Spend 생성\n",
        "train_raw['Spend'] = [0 if train_raw.iloc[i][['RoomService', 'FoodCourt', 'ShoppingMall', 'Spa', 'VRDeck']].sum() == 0 else 1 for i in range(len(train_raw))]"
      ],
      "metadata": {
        "id": "X5sd7K0m86Fe"
      },
      "execution_count": null,
      "outputs": []
    },
    {
      "cell_type": "code",
      "source": [
        "sns.barplot(y='Transported', x='Spend', data=train_raw)\n",
        "plt.show()"
      ],
      "metadata": {
        "colab": {
          "base_uri": "https://localhost:8080/",
          "height": 279
        },
        "id": "6Yv8uell-FCQ",
        "outputId": "b736ed63-3842-47d4-b28f-be6b07be4a50"
      },
      "execution_count": null,
      "outputs": [
        {
          "output_type": "display_data",
          "data": {
            "text/plain": [
              "<Figure size 432x288 with 1 Axes>"
            ],
            "image/png": "[encoded data removed]"
          },
          "metadata": {
            "needs_background": "light"
          }
        }
      ]
    },
    {
      "cell_type": "code",
      "source": [
        "sns.barplot(y='Transported', x='VIP', data=train_raw)\n",
        "plt.show()"
      ],
      "metadata": {
        "colab": {
          "base_uri": "https://localhost:8080/",
          "height": 279
        },
        "id": "g7g_vD4O_D0U",
        "outputId": "21acba1e-5336-42c7-b9ea-869d602e565f"
      },
      "execution_count": null,
      "outputs": [
        {
          "output_type": "display_data",
          "data": {
            "text/plain": [
              "<Figure size 432x288 with 1 Axes>"
            ],
            "image/png": "[encoded data removed]"
          },
          "metadata": {
            "needs_background": "light"
          }
        }
      ]
    },
    {
      "cell_type": "code",
      "source": [
        "plt.figure(figsize=(15, 5))\n",
        "plt.subplot(1, 2, 1)\n",
        "plt.title('Age Distribution - Transported : False')\n",
        "sns.kdeplot(x=\"Age\", data=train_raw[train_raw['Transported'] == False])\n",
        "plt.subplot(1, 2, 2)\n",
        "plt.title('Age Distribution - Transported : True')\n",
        "sns.kdeplot(x='Age', data=train_raw[train_raw['Transported'] == True])\n",
        "plt.show()\n",
        "\n",
        "# 연령대는 0세부터 79세까지 분포하기 때문에 10대, 20대와 같이 범위를 나누었습니다.\n",
        "# 0~19세까지는 도착률이 더 높고, 20~39세는 도착률이 더 낮으며 40세 이후로는 도착률이 거의 동일한 것을 확인할 수 있습니다."
      ],
      "metadata": {
        "colab": {
          "base_uri": "https://localhost:8080/",
          "height": 350
        },
        "id": "2hgDiOty_OE7",
        "outputId": "fb9a6867-3a6a-4285-eb1b-f7f9bb46243a"
      },
      "execution_count": null,
      "outputs": [
        {
          "output_type": "display_data",
          "data": {
            "text/plain": [
              "<Figure size 1080x360 with 2 Axes>"
            ],
            "image/png": "[encoded data removed]"
          },
          "metadata": {
            "needs_background": "light"
          }
        }
      ]
    },
    {
      "cell_type": "markdown",
      "source": [
        "# 전처리"
      ],
      "metadata": {
        "id": "uZLW8Auv70Vn"
      }
    },
    {
      "cell_type": "code",
      "source": [
        "#@title 전처리용 함수 정의 \n",
        "def pre_processing(data_raw) :\n",
        "    data = data_raw.copy()\n",
        "\n",
        "    # PassengerId 컬럼 Group, Group_num 컬럼으로 분리\n",
        "    data[['Group', 'Group_num']] = data['PassengerId'].str.split(\"_\", expand=True)\n",
        "    \n",
        "    # Name 컬럼 First, Last로 분리\n",
        "    data[['First', 'Last']] = data['Name'].str.split(\" \", expand=True)\n",
        "    \n",
        "    # HomePlanet, CryoSleep, Destination, VIP 컬럼 결측치에 최빈값 입력\n",
        "    for feature in ['HomePlanet', 'CryoSleep', 'Destination', 'VIP'] :\n",
        "        data[feature].fillna(data[feature].mode()[0], inplace=True)\n",
        "    \n",
        "    # Age 결측치에 HomePlanet, CryoSleep, Destination, VIP 컬럼별 평균값 입력\n",
        "    data['Age'] = data['Age'].fillna(data.groupby(['HomePlanet', 'CryoSleep', 'Destination', 'VIP'])['Age'].transform('mean'))\n",
        "    \n",
        "    # Group_num을 Group별 Group_num의 최대값으로 대체 (그룹 총 인원)\n",
        "    data['Group_num'] = data.groupby('Group')['Group_num'].transform('max').apply(int)\n",
        "    \n",
        "    #Group별 Last가 같은 데이터의 개수를 값으로 갖는 Family_num 컬럼으로 생성 (그룹 내 가족 수)\n",
        "    data['Family_num'] = data.groupby(['Group', 'Last'])['Last'].transform('count')\n",
        "    # Family_num 결측치인 데이터는 대부분 혼자 온 사람들이므로 결측치에 1 대입\n",
        "    data['Family_num'].fillna(1, inplace=True)\n",
        "    data['Family_num'] = data['Family_num'].apply(int)\n",
        "    \n",
        "    # RoomService, FoodCourt, ShoppingMall, Spa, VRDeck 컬럼 결측치에 0 입력\n",
        "    for feature in ['RoomService', 'FoodCourt', 'ShoppingMall', 'Spa', 'VRDeck'] :\n",
        "        data[feature].fillna(0, inplace=True)\n",
        "    # RoomService, FoodCourt, ShoppingMall, Spa, VRDeck컬럼에 값이 있으면 1 없으면 0인 컬럼 Spend 생성\n",
        "    data['Spend'] = [0 if data.iloc[i][['RoomService', 'FoodCourt', 'ShoppingMall', 'Spa', 'VRDeck']].sum() == 0\n",
        "                      else 1 for i in range(len(data))]\n",
        "   \n",
        "    # Cabin 컬럼은 deck, num, side로 분리해서 컬럼 생성\n",
        "    data[['Cabin_deck', 'Cabin_num', 'Cabin_side']] = data['Cabin'].str.split(\"/\", expand=True)\n",
        "    # Cabin_deck, Cabin_side 컬럼 결측치에 unknown 입력\n",
        "    data[['Cabin_deck', 'Cabin_side']] = data[['Cabin_deck', 'Cabin_side']].fillna('unknown')\n",
        "    # PassengerId, Cabin, Name, Group, First, Last, Cabin_num 컬럼 삭제\n",
        "    data.drop(['PassengerId', 'Cabin', 'Name', 'Group', 'First', 'Last', 'Cabin_num'], axis=1, inplace=True)\n",
        "\n",
        "    # Transported 변수 True = 1, False = 0 변환 (test 셋은 변환 X)\n",
        "    if 'Transported' in data.columns:\n",
        "        data['Transported'] = data['Transported'].apply(lambda x : 1 if x == True else 0)\n",
        "    # 컬럼 순서 변경 (Transported 맨 앞으로)\n",
        "    data = data[['Transported', 'HomePlanet', 'CryoSleep', 'Destination', 'Age', 'VIP', 'RoomService', 'FoodCourt', 'ShoppingMall', 'Spa', 'VRDeck',\n",
        "                 'Spend', 'Group_num', 'Family_num', 'Cabin_deck', 'Cabin_side']]\n",
        "    # 나머지 범주형 변수 원-핫 인코딩\n",
        "    data = pd.get_dummies(data, columns=['HomePlanet', 'Destination', 'Cabin_deck', 'Cabin_side', 'CryoSleep', 'VIP'], drop_first=True)\n",
        "    \n",
        "    data.columns = data.columns.str.lower()\n",
        "\n",
        "    return data"
      ],
      "metadata": {
        "id": "DAvXBbXLgSWs"
      },
      "execution_count": null,
      "outputs": []
    },
    {
      "cell_type": "code",
      "source": [
        "clean1 = pre_processing(train_raw)\n",
        "clean1.columns"
      ],
      "metadata": {
        "colab": {
          "base_uri": "https://localhost:8080/"
        },
        "id": "myc5XLNA7L30",
        "outputId": "f552e837-4d99-42db-a63b-79851b249d40"
      },
      "execution_count": null,
      "outputs": [
        {
          "output_type": "execute_result",
          "data": {
            "text/plain": [
              "Index(['transported', 'age', 'roomservice', 'foodcourt', 'shoppingmall', 'spa',\n",
              "       'vrdeck', 'spend', 'group_num', 'family_num', 'homeplanet_europa',\n",
              "       'homeplanet_mars', 'destination_pso j318.5-22',\n",
              "       'destination_trappist-1e', 'cabin_deck_b', 'cabin_deck_c',\n",
              "       'cabin_deck_d', 'cabin_deck_e', 'cabin_deck_f', 'cabin_deck_g',\n",
              "       'cabin_deck_t', 'cabin_deck_unknown', 'cabin_side_s',\n",
              "       'cabin_side_unknown', 'cryosleep_true', 'vip_true'],\n",
              "      dtype='object')"
            ]
          },
          "metadata": {},
          "execution_count": 31
        }
      ]
    },
    {
      "cell_type": "markdown",
      "source": [
        "# 모델 학습(Random Forest)"
      ],
      "metadata": {
        "id": "_zht0swf7hlQ"
      }
    },
    {
      "cell_type": "code",
      "source": [
        "#@title train/test/validation 셋 분리\n",
        "from sklearn.model_selection import train_test_split\n",
        "\n",
        "X = clean1.drop('transported', axis=1)\n",
        "y = clean1['transported']\n",
        "\n",
        "X_train, X_test, y_train, y_test = train_test_split(X, y, test_size=0.2, random_state=100)\n",
        "X_tr, X_val, y_tr, y_val = train_test_split(X_train, y_train, test_size=0.2, random_state=100)\n",
        "\n",
        "print(X_train.shape, X_test.shape)\n",
        "print(X_tr.shape, X_val.shape)"
      ],
      "metadata": {
        "colab": {
          "base_uri": "https://localhost:8080/"
        },
        "id": "7AHjdXfp7_xV",
        "outputId": "b65abe57-eb82-4b5d-f403-c05e40db68eb"
      },
      "execution_count": null,
      "outputs": [
        {
          "output_type": "stream",
          "name": "stdout",
          "text": [
            "(6954, 25) (1739, 25)\n",
            "(5563, 25) (1391, 25)\n"
          ]
        }
      ]
    },
    {
      "cell_type": "code",
      "source": [
        "#@title 성능 평가 지표 한 눈에 보기 위한 사용자 정의 함수\n",
        "from sklearn.metrics import accuracy_score, confusion_matrix, classification_report, roc_auc_score\n",
        "\n",
        "def eval_model(y_test, pred, model=None):\n",
        "    # accuracy score 출력\n",
        "    print(f\"accuracy_score : {accuracy_score(y_test, pred):.6f}\")\n",
        "    # model 입력 했으면 roc auc score 출력\n",
        "    if model :\n",
        "        pred_proba = model.predict_proba(X_test)[:, 1]\n",
        "        print(f\"roc-auc score  : {roc_auc_score(y_test, pred_proba):.6f}\")\n",
        "    else :\n",
        "        print(\"roc-auc score  : need model\")\n",
        "    print()\n",
        "    # confusion matrix 출력\n",
        "    print(\"-- confusion matrix --\")\n",
        "    cf_matrix = confusion_matrix(y_test, pred)\n",
        "    group_names = ['TN', 'FP', 'FN', 'TP']\n",
        "    group_counts = [\"{0:0.0f}\".format(value) for value in\n",
        "                    cf_matrix.flatten()]\n",
        "    group_percentages = [\"{0:.2%}\".format(value) for value in\n",
        "                        cf_matrix.flatten()/np.sum(cf_matrix)]\n",
        "    labels = [f\"{v1}\\n{v2}\\n{v3}\" for v1, v2, v3 in\n",
        "            zip(group_names,group_counts,group_percentages)]\n",
        "    labels = np.asarray(labels).reshape(2,2)\n",
        "    sns.heatmap(cf_matrix, annot=labels, fmt='', cmap='coolwarm')\n",
        "    plt.ylabel('True')\n",
        "    plt.xlabel('Predicted')\n",
        "    plt.show()\n",
        "    print()\n",
        "    # 1종, 2종 오류 확률 출력\n",
        "    print(f\"type I error probabilty  : {cf_matrix[0][1]/(cf_matrix[0][1]+cf_matrix[1][1]):.6f}\")\n",
        "    print(f\"type II error probabilty : {cf_matrix[1][0]/(cf_matrix[1][0]+cf_matrix[0][0]):.6f}\")\n",
        "    print()\n",
        "    print()\n",
        "    # 정밀도, 재현율 F1-score 등 출력\n",
        "    print(\"-- classification report --\")\n",
        "    print(classification_report(y_test, pred))"
      ],
      "metadata": {
        "id": "2jqA6Hh98LlL"
      },
      "execution_count": null,
      "outputs": []
    },
    {
      "cell_type": "code",
      "source": [
        "#@title 기본 전처리 후 학습\n",
        "from sklearn.ensemble import RandomForestClassifier\n",
        "\n",
        "rfc_model1 = RandomForestClassifier(random_state = 100, max_depth = 10, n_estimators = 10)\n",
        "rfc_model1.fit(X_train, y_train)\n",
        "rfc_pred1 = rfc_model1.predict(X_test)"
      ],
      "metadata": {
        "id": "UkspTh7uFxA4"
      },
      "execution_count": null,
      "outputs": []
    },
    {
      "cell_type": "code",
      "source": [
        "# Random Forest 최초 모델 accuracy 79.7%\n",
        "eval_model(y_test, rfc_pred1, rfc_model1)"
      ],
      "metadata": {
        "colab": {
          "base_uri": "https://localhost:8080/",
          "height": 627
        },
        "id": "Q9CfDfJ4F4oy",
        "outputId": "3f7decd4-6923-4a16-b72f-422e973d44f1"
      },
      "execution_count": null,
      "outputs": [
        {
          "output_type": "stream",
          "name": "stdout",
          "text": [
            "accuracy_score : 0.797010\n",
            "roc-auc score  : 0.879928\n",
            "\n",
            "-- confusion matrix --\n"
          ]
        },
        {
          "output_type": "display_data",
          "data": {
            "text/plain": [
              "<Figure size 432x288 with 2 Axes>"
            ],
            "image/png": "[encoded data removed]"
          },
          "metadata": {
            "needs_background": "light"
          }
        },
        {
          "output_type": "stream",
          "name": "stdout",
          "text": [
            "\n",
            "type I error probabilty  : 0.222591\n",
            "type II error probabilty : 0.181818\n",
            "\n",
            "\n",
            "-- classification report --\n",
            "              precision    recall  f1-score   support\n",
            "\n",
            "           0       0.82      0.77      0.79       885\n",
            "           1       0.78      0.82      0.80       854\n",
            "\n",
            "    accuracy                           0.80      1739\n",
            "   macro avg       0.80      0.80      0.80      1739\n",
            "weighted avg       0.80      0.80      0.80      1739\n",
            "\n"
          ]
        }
      ]
    },
    {
      "cell_type": "code",
      "source": [
        "# 과적합 있음\n",
        "accuracy_score(y_train, rfc_model1.predict(X_train))"
      ],
      "metadata": {
        "colab": {
          "base_uri": "https://localhost:8080/"
        },
        "id": "lDADUyHgF73w",
        "outputId": "caccd321-ed4f-4b6f-a1a1-b0f13b7c34f5"
      },
      "execution_count": null,
      "outputs": [
        {
          "output_type": "execute_result",
          "data": {
            "text/plain": [
              "0.8474259419039402"
            ]
          },
          "metadata": {},
          "execution_count": 17
        }
      ]
    },
    {
      "cell_type": "code",
      "source": [
        "#@title Grid Search\n",
        "from sklearn.model_selection import GridSearchCV\n",
        "# 시간 측정\n",
        "import time\n",
        "start = time.time()\n",
        "\n",
        "rfc = RandomForestClassifier(n_estimators=100, random_state=100, n_jobs=-1)\n",
        "\n",
        "param_grid = {'n_estimators': range(1, 20),\n",
        "              'max_depth': [8,16,24], \n",
        "              'min_samples_leaf' : [1, 6, 12],\n",
        "              'min_samples_split' : [2, 8, 16]}\n",
        "\n",
        "rfc_grid = GridSearchCV(rfc, param_grid=param_grid, cv=5, n_jobs=-1)\n",
        "\n",
        "rfc_grid.fit(X_train, y_train)\n",
        "\n",
        "# 그리드 서치 학습 결과 출력\n",
        "print('베스트 하이퍼 파라미터: {0}'.format(rfc_grid.best_params_))\n",
        "print('베스트 하이퍼 파라미터 일 때 정확도: {0:.4f}'.format(rfc_grid.best_score_))\n",
        "\n",
        "print(\"time :\", time.time() - start)"
      ],
      "metadata": {
        "colab": {
          "base_uri": "https://localhost:8080/"
        },
        "id": "BALqo78hNlK7",
        "outputId": "34815196-7b34-40d9-a1d5-8b4a06f741c9"
      },
      "execution_count": null,
      "outputs": [
        {
          "output_type": "stream",
          "name": "stdout",
          "text": [
            "베스트 하이퍼 파라미터: {'max_depth': 16, 'min_samples_leaf': 12, 'min_samples_split': 2, 'n_estimators': 18}\n",
            "베스트 하이퍼 파라미터 일 때 정확도: 0.7955\n",
            "time : 298.4257559776306\n"
          ]
        }
      ]
    },
    {
      "cell_type": "code",
      "source": [
        "# 최적화 모델 추출\n",
        "rfc_model2 = rfc_grid.best_estimator_\n",
        "\n",
        "rfc_pred2 = rfc_model2.predict(X_test)"
      ],
      "metadata": {
        "id": "wV89WdRqBWBt"
      },
      "execution_count": null,
      "outputs": []
    },
    {
      "cell_type": "code",
      "source": [
        "eval_model(y_test, rfc_pred2, rfc_model2)"
      ],
      "metadata": {
        "colab": {
          "base_uri": "https://localhost:8080/",
          "height": 627
        },
        "id": "44HOQvi_Obld",
        "outputId": "b0076fc3-b2e4-4d0f-c69f-242ba63e3ac9"
      },
      "execution_count": null,
      "outputs": [
        {
          "output_type": "stream",
          "name": "stdout",
          "text": [
            "accuracy_score : 0.797010\n",
            "roc-auc score  : 0.888550\n",
            "\n",
            "-- confusion matrix --\n"
          ]
        },
        {
          "output_type": "display_data",
          "data": {
            "text/plain": [
              "<Figure size 432x288 with 2 Axes>"
            ],
            "image/png": "[encoded data removed]"
          },
          "metadata": {
            "needs_background": "light"
          }
        },
        {
          "output_type": "stream",
          "name": "stdout",
          "text": [
            "\n",
            "type I error probabilty  : 0.222591\n",
            "type II error probabilty : 0.181818\n",
            "\n",
            "\n",
            "-- classification report --\n",
            "              precision    recall  f1-score   support\n",
            "\n",
            "           0       0.82      0.77      0.79       885\n",
            "           1       0.78      0.82      0.80       854\n",
            "\n",
            "    accuracy                           0.80      1739\n",
            "   macro avg       0.80      0.80      0.80      1739\n",
            "weighted avg       0.80      0.80      0.80      1739\n",
            "\n"
          ]
        }
      ]
    },
    {
      "cell_type": "code",
      "source": [
        "accuracy_score(y_train, rfc_model2.predict(X_train))"
      ],
      "metadata": {
        "colab": {
          "base_uri": "https://localhost:8080/"
        },
        "id": "bgq4bbQdW1NT",
        "outputId": "f976b8ca-3b9c-46b9-b6c8-b326358e364d"
      },
      "execution_count": null,
      "outputs": [
        {
          "output_type": "execute_result",
          "data": {
            "text/plain": [
              "0.8262870290480299"
            ]
          },
          "metadata": {},
          "execution_count": 46
        }
      ]
    },
    {
      "cell_type": "code",
      "source": [
        "#@title tree 기반 모델에서 feature의 중요도 확인\n",
        "!pip install eli5"
      ],
      "metadata": {
        "id": "FgKyAiRODVWt"
      },
      "execution_count": null,
      "outputs": []
    },
    {
      "cell_type": "code",
      "source": [
        "# Permutation Feature Importance 사용\n",
        "import eli5\n",
        "from eli5.sklearn import PermutationImportance\n",
        "\n",
        "perm = PermutationImportance(rfc_model1).fit(X_test, y_test)\n",
        "eli5.show_weights(perm, feature_names = X_test.columns.tolist(), top=25)"
      ],
      "metadata": {
        "colab": {
          "base_uri": "https://localhost:8080/",
          "height": 468
        },
        "outputId": "d01d6132-3988-450d-8a82-e160fed26d09",
        "id": "A-e3sWLgDVWu"
      },
      "execution_count": null,
      "outputs": [
        {
          "output_type": "execute_result",
          "data": {
            "text/plain": [
              "<IPython.core.display.HTML object>"
            ],
            "text/html": [
              "\n",
              "    <style>\n",
              "    table.eli5-weights tr:hover {\n",
              "        filter: brightness(85%);\n",
              "    }\n",
              "</style>\n",
              "\n",
              "\n",
              "\n",
              "    \n",
              "\n",
              "    \n",
              "\n",
              "    \n",
              "\n",
              "    \n",
              "\n",
              "    \n",
              "\n",
              "    \n",
              "\n",
              "\n",
              "    \n",
              "\n",
              "    \n",
              "\n",
              "    \n",
              "\n",
              "    \n",
              "\n",
              "    \n",
              "\n",
              "    \n",
              "\n",
              "\n",
              "    \n",
              "\n",
              "    \n",
              "\n",
              "    \n",
              "\n",
              "    \n",
              "\n",
              "    \n",
              "        <table class=\"eli5-weights eli5-feature-importances\" style=\"border-collapse: collapse; border: none; margin-top: 0em; table-layout: auto;\">\n",
              "    <thead>\n",
              "    <tr style=\"border: none;\">\n",
              "        <th style=\"padding: 0 1em 0 0.5em; text-align: right; border: none;\">Weight</th>\n",
              "        <th style=\"padding: 0 0.5em 0 0.5em; text-align: left; border: none;\">Feature</th>\n",
              "    </tr>\n",
              "    </thead>\n",
              "    <tbody>\n",
              "    \n",
              "        <tr style=\"background-color: hsl(120, 100.00%, 80.00%); border: none;\">\n",
              "            <td style=\"padding: 0 1em 0 0.5em; text-align: right; border: none;\">\n",
              "                0.0989\n",
              "                \n",
              "                    &plusmn; 0.0200\n",
              "                \n",
              "            </td>\n",
              "            <td style=\"padding: 0 0.5em 0 0.5em; text-align: left; border: none;\">\n",
              "                cryosleep_true\n",
              "            </td>\n",
              "        </tr>\n",
              "    \n",
              "        <tr style=\"background-color: hsl(120, 100.00%, 89.66%); border: none;\">\n",
              "            <td style=\"padding: 0 1em 0 0.5em; text-align: right; border: none;\">\n",
              "                0.0385\n",
              "                \n",
              "                    &plusmn; 0.0080\n",
              "                \n",
              "            </td>\n",
              "            <td style=\"padding: 0 0.5em 0 0.5em; text-align: left; border: none;\">\n",
              "                foodcourt\n",
              "            </td>\n",
              "        </tr>\n",
              "    \n",
              "        <tr style=\"background-color: hsl(120, 100.00%, 93.65%); border: none;\">\n",
              "            <td style=\"padding: 0 1em 0 0.5em; text-align: right; border: none;\">\n",
              "                0.0192\n",
              "                \n",
              "                    &plusmn; 0.0147\n",
              "                \n",
              "            </td>\n",
              "            <td style=\"padding: 0 0.5em 0 0.5em; text-align: left; border: none;\">\n",
              "                spend\n",
              "            </td>\n",
              "        </tr>\n",
              "    \n",
              "        <tr style=\"background-color: hsl(120, 100.00%, 94.47%); border: none;\">\n",
              "            <td style=\"padding: 0 1em 0 0.5em; text-align: right; border: none;\">\n",
              "                0.0158\n",
              "                \n",
              "                    &plusmn; 0.0067\n",
              "                \n",
              "            </td>\n",
              "            <td style=\"padding: 0 0.5em 0 0.5em; text-align: left; border: none;\">\n",
              "                spa\n",
              "            </td>\n",
              "        </tr>\n",
              "    \n",
              "        <tr style=\"background-color: hsl(120, 100.00%, 94.99%); border: none;\">\n",
              "            <td style=\"padding: 0 1em 0 0.5em; text-align: right; border: none;\">\n",
              "                0.0137\n",
              "                \n",
              "                    &plusmn; 0.0053\n",
              "                \n",
              "            </td>\n",
              "            <td style=\"padding: 0 0.5em 0 0.5em; text-align: left; border: none;\">\n",
              "                vrdeck\n",
              "            </td>\n",
              "        </tr>\n",
              "    \n",
              "        <tr style=\"background-color: hsl(120, 100.00%, 95.47%); border: none;\">\n",
              "            <td style=\"padding: 0 1em 0 0.5em; text-align: right; border: none;\">\n",
              "                0.0118\n",
              "                \n",
              "                    &plusmn; 0.0035\n",
              "                \n",
              "            </td>\n",
              "            <td style=\"padding: 0 0.5em 0 0.5em; text-align: left; border: none;\">\n",
              "                roomservice\n",
              "            </td>\n",
              "        </tr>\n",
              "    \n",
              "        <tr style=\"background-color: hsl(120, 100.00%, 96.14%); border: none;\">\n",
              "            <td style=\"padding: 0 1em 0 0.5em; text-align: right; border: none;\">\n",
              "                0.0094\n",
              "                \n",
              "                    &plusmn; 0.0071\n",
              "                \n",
              "            </td>\n",
              "            <td style=\"padding: 0 0.5em 0 0.5em; text-align: left; border: none;\">\n",
              "                shoppingmall\n",
              "            </td>\n",
              "        </tr>\n",
              "    \n",
              "        <tr style=\"background-color: hsl(120, 100.00%, 97.42%); border: none;\">\n",
              "            <td style=\"padding: 0 1em 0 0.5em; text-align: right; border: none;\">\n",
              "                0.0053\n",
              "                \n",
              "                    &plusmn; 0.0040\n",
              "                \n",
              "            </td>\n",
              "            <td style=\"padding: 0 0.5em 0 0.5em; text-align: left; border: none;\">\n",
              "                cabin_deck_f\n",
              "            </td>\n",
              "        </tr>\n",
              "    \n",
              "        <tr style=\"background-color: hsl(120, 100.00%, 97.83%); border: none;\">\n",
              "            <td style=\"padding: 0 1em 0 0.5em; text-align: right; border: none;\">\n",
              "                0.0041\n",
              "                \n",
              "                    &plusmn; 0.0025\n",
              "                \n",
              "            </td>\n",
              "            <td style=\"padding: 0 0.5em 0 0.5em; text-align: left; border: none;\">\n",
              "                cabin_deck_e\n",
              "            </td>\n",
              "        </tr>\n",
              "    \n",
              "        <tr style=\"background-color: hsl(120, 100.00%, 98.00%); border: none;\">\n",
              "            <td style=\"padding: 0 1em 0 0.5em; text-align: right; border: none;\">\n",
              "                0.0037\n",
              "                \n",
              "                    &plusmn; 0.0045\n",
              "                \n",
              "            </td>\n",
              "            <td style=\"padding: 0 0.5em 0 0.5em; text-align: left; border: none;\">\n",
              "                homeplanet_mars\n",
              "            </td>\n",
              "        </tr>\n",
              "    \n",
              "        <tr style=\"background-color: hsl(120, 100.00%, 98.99%); border: none;\">\n",
              "            <td style=\"padding: 0 1em 0 0.5em; text-align: right; border: none;\">\n",
              "                0.0014\n",
              "                \n",
              "                    &plusmn; 0.0025\n",
              "                \n",
              "            </td>\n",
              "            <td style=\"padding: 0 0.5em 0 0.5em; text-align: left; border: none;\">\n",
              "                destination_pso j318.5-22\n",
              "            </td>\n",
              "        </tr>\n",
              "    \n",
              "        <tr style=\"background-color: hsl(120, 100.00%, 98.99%); border: none;\">\n",
              "            <td style=\"padding: 0 1em 0 0.5em; text-align: right; border: none;\">\n",
              "                0.0014\n",
              "                \n",
              "                    &plusmn; 0.0064\n",
              "                \n",
              "            </td>\n",
              "            <td style=\"padding: 0 0.5em 0 0.5em; text-align: left; border: none;\">\n",
              "                age\n",
              "            </td>\n",
              "        </tr>\n",
              "    \n",
              "        <tr style=\"background-color: hsl(120, 100.00%, 99.46%); border: none;\">\n",
              "            <td style=\"padding: 0 1em 0 0.5em; text-align: right; border: none;\">\n",
              "                0.0006\n",
              "                \n",
              "                    &plusmn; 0.0027\n",
              "                \n",
              "            </td>\n",
              "            <td style=\"padding: 0 0.5em 0 0.5em; text-align: left; border: none;\">\n",
              "                cabin_side_s\n",
              "            </td>\n",
              "        </tr>\n",
              "    \n",
              "        <tr style=\"background-color: hsl(120, 100.00%, 99.53%); border: none;\">\n",
              "            <td style=\"padding: 0 1em 0 0.5em; text-align: right; border: none;\">\n",
              "                0.0005\n",
              "                \n",
              "                    &plusmn; 0.0013\n",
              "                \n",
              "            </td>\n",
              "            <td style=\"padding: 0 0.5em 0 0.5em; text-align: left; border: none;\">\n",
              "                cabin_deck_c\n",
              "            </td>\n",
              "        </tr>\n",
              "    \n",
              "        <tr style=\"background-color: hsl(120, 100.00%, 99.71%); border: none;\">\n",
              "            <td style=\"padding: 0 1em 0 0.5em; text-align: right; border: none;\">\n",
              "                0.0002\n",
              "                \n",
              "                    &plusmn; 0.0006\n",
              "                \n",
              "            </td>\n",
              "            <td style=\"padding: 0 0.5em 0 0.5em; text-align: left; border: none;\">\n",
              "                cabin_side_unknown\n",
              "            </td>\n",
              "        </tr>\n",
              "    \n",
              "        <tr style=\"background-color: hsl(120, 100.00%, 99.71%); border: none;\">\n",
              "            <td style=\"padding: 0 1em 0 0.5em; text-align: right; border: none;\">\n",
              "                0.0002\n",
              "                \n",
              "                    &plusmn; 0.0026\n",
              "                \n",
              "            </td>\n",
              "            <td style=\"padding: 0 0.5em 0 0.5em; text-align: left; border: none;\">\n",
              "                cabin_deck_b\n",
              "            </td>\n",
              "        </tr>\n",
              "    \n",
              "        <tr style=\"background-color: hsl(120, 100.00%, 99.82%); border: none;\">\n",
              "            <td style=\"padding: 0 1em 0 0.5em; text-align: right; border: none;\">\n",
              "                0.0001\n",
              "                \n",
              "                    &plusmn; 0.0009\n",
              "                \n",
              "            </td>\n",
              "            <td style=\"padding: 0 0.5em 0 0.5em; text-align: left; border: none;\">\n",
              "                cabin_deck_unknown\n",
              "            </td>\n",
              "        </tr>\n",
              "    \n",
              "        <tr style=\"background-color: hsl(120, 100.00%, 99.82%); border: none;\">\n",
              "            <td style=\"padding: 0 1em 0 0.5em; text-align: right; border: none;\">\n",
              "                0.0001\n",
              "                \n",
              "                    &plusmn; 0.0013\n",
              "                \n",
              "            </td>\n",
              "            <td style=\"padding: 0 0.5em 0 0.5em; text-align: left; border: none;\">\n",
              "                cabin_deck_d\n",
              "            </td>\n",
              "        </tr>\n",
              "    \n",
              "        <tr style=\"background-color: hsl(0, 100.00%, 100.00%); border: none;\">\n",
              "            <td style=\"padding: 0 1em 0 0.5em; text-align: right; border: none;\">\n",
              "                0\n",
              "                \n",
              "                    &plusmn; 0.0000\n",
              "                \n",
              "            </td>\n",
              "            <td style=\"padding: 0 0.5em 0 0.5em; text-align: left; border: none;\">\n",
              "                cabin_deck_t\n",
              "            </td>\n",
              "        </tr>\n",
              "    \n",
              "        <tr style=\"background-color: hsl(0, 100.00%, 99.82%); border: none;\">\n",
              "            <td style=\"padding: 0 1em 0 0.5em; text-align: right; border: none;\">\n",
              "                -0.0001\n",
              "                \n",
              "                    &plusmn; 0.0037\n",
              "                \n",
              "            </td>\n",
              "            <td style=\"padding: 0 0.5em 0 0.5em; text-align: left; border: none;\">\n",
              "                destination_trappist-1e\n",
              "            </td>\n",
              "        </tr>\n",
              "    \n",
              "        <tr style=\"background-color: hsl(0, 100.00%, 99.71%); border: none;\">\n",
              "            <td style=\"padding: 0 1em 0 0.5em; text-align: right; border: none;\">\n",
              "                -0.0002\n",
              "                \n",
              "                    &plusmn; 0.0066\n",
              "                \n",
              "            </td>\n",
              "            <td style=\"padding: 0 0.5em 0 0.5em; text-align: left; border: none;\">\n",
              "                homeplanet_europa\n",
              "            </td>\n",
              "        </tr>\n",
              "    \n",
              "        <tr style=\"background-color: hsl(0, 100.00%, 99.62%); border: none;\">\n",
              "            <td style=\"padding: 0 1em 0 0.5em; text-align: right; border: none;\">\n",
              "                -0.0003\n",
              "                \n",
              "                    &plusmn; 0.0021\n",
              "                \n",
              "            </td>\n",
              "            <td style=\"padding: 0 0.5em 0 0.5em; text-align: left; border: none;\">\n",
              "                cabin_deck_g\n",
              "            </td>\n",
              "        </tr>\n",
              "    \n",
              "        <tr style=\"background-color: hsl(0, 100.00%, 99.46%); border: none;\">\n",
              "            <td style=\"padding: 0 1em 0 0.5em; text-align: right; border: none;\">\n",
              "                -0.0006\n",
              "                \n",
              "                    &plusmn; 0.0013\n",
              "                \n",
              "            </td>\n",
              "            <td style=\"padding: 0 0.5em 0 0.5em; text-align: left; border: none;\">\n",
              "                vip_true\n",
              "            </td>\n",
              "        </tr>\n",
              "    \n",
              "        <tr style=\"background-color: hsl(0, 100.00%, 99.12%); border: none;\">\n",
              "            <td style=\"padding: 0 1em 0 0.5em; text-align: right; border: none;\">\n",
              "                -0.0012\n",
              "                \n",
              "                    &plusmn; 0.0069\n",
              "                \n",
              "            </td>\n",
              "            <td style=\"padding: 0 0.5em 0 0.5em; text-align: left; border: none;\">\n",
              "                group_num\n",
              "            </td>\n",
              "        </tr>\n",
              "    \n",
              "        <tr style=\"background-color: hsl(0, 100.00%, 98.88%); border: none;\">\n",
              "            <td style=\"padding: 0 1em 0 0.5em; text-align: right; border: none;\">\n",
              "                -0.0016\n",
              "                \n",
              "                    &plusmn; 0.0017\n",
              "                \n",
              "            </td>\n",
              "            <td style=\"padding: 0 0.5em 0 0.5em; text-align: left; border: none;\">\n",
              "                family_num\n",
              "            </td>\n",
              "        </tr>\n",
              "    \n",
              "    \n",
              "    </tbody>\n",
              "</table>\n",
              "    \n",
              "\n",
              "    \n",
              "\n",
              "\n",
              "    \n",
              "\n",
              "    \n",
              "\n",
              "    \n",
              "\n",
              "    \n",
              "\n",
              "    \n",
              "\n",
              "    \n",
              "\n",
              "\n",
              "\n"
            ]
          },
          "metadata": {},
          "execution_count": 52
        }
      ]
    },
    {
      "cell_type": "code",
      "source": [
        "clean2 = clean1.drop(['age', 'cabin_side_s', 'cabin_deck_c', 'cabin_side_unknown', 'cabin_deck_b', 'cabin_deck_unknown',\n",
        "                      'cabin_deck_d', 'cabin_deck_t', 'destination_trappist-1e', 'homeplanet_europa', 'cabin_deck_g',\n",
        "                      'vip_true', 'group_num', 'family_num'], axis=1)\n",
        "clean2.columns"
      ],
      "metadata": {
        "colab": {
          "base_uri": "https://localhost:8080/"
        },
        "outputId": "3090a8d0-9a9a-45e8-e073-85c1a6e4bc81",
        "id": "0Pwv3vTeDVWw"
      },
      "execution_count": null,
      "outputs": [
        {
          "output_type": "execute_result",
          "data": {
            "text/plain": [
              "Index(['transported', 'roomservice', 'foodcourt', 'shoppingmall', 'spa',\n",
              "       'vrdeck', 'spend', 'homeplanet_mars', 'destination_pso j318.5-22',\n",
              "       'cabin_deck_e', 'cabin_deck_f', 'cryosleep_true'],\n",
              "      dtype='object')"
            ]
          },
          "metadata": {},
          "execution_count": 71
        }
      ]
    },
    {
      "cell_type": "code",
      "source": [
        "X2 = clean2.drop('transported', axis=1)\n",
        "y = clean2['transported']\n",
        "\n",
        "X_train2, X_test2, y_train, y_test = train_test_split(X2, y, test_size=0.2, random_state=100)\n",
        "\n",
        "print(X_train2.shape, X_test2.shape)"
      ],
      "metadata": {
        "colab": {
          "base_uri": "https://localhost:8080/"
        },
        "outputId": "803f7a81-7806-453c-fe5a-ee006240a4b1",
        "id": "lQYgRe9cDVWx"
      },
      "execution_count": null,
      "outputs": [
        {
          "output_type": "stream",
          "name": "stdout",
          "text": [
            "(6954, 11) (1739, 11)\n"
          ]
        }
      ]
    },
    {
      "cell_type": "code",
      "source": [
        "#@title HyperOpt\n",
        "from hyperopt import hp"
      ],
      "metadata": {
        "id": "pImaCPreLLb5"
      },
      "execution_count": null,
      "outputs": []
    },
    {
      "cell_type": "code",
      "source": [
        "# 검색 공간 설정\n",
        "rfc_search_space = {'max_depth': hp.quniform('max_depth', 5, 15, 1),\n",
        "                    'min_samples_leaf': hp.quniform ('min_samples_leaf', 1, 4, 1),\n",
        "                    'min_samples_split' : hp.quniform ('min_samples_split', 2, 4, 1),\n",
        "                    'n_estimators' : hp.quniform('n_estimators', 10, 100, 10)}"
      ],
      "metadata": {
        "id": "_jjosZVnLsKn"
      },
      "execution_count": null,
      "outputs": []
    },
    {
      "cell_type": "code",
      "source": [
        "# 목적함수(=손실함수) 정의\n",
        "from sklearn.model_selection import cross_val_score\n",
        "from hyperopt import STATUS_OK\n",
        "\n",
        "def objective_func(search_space):\n",
        "    rfc_hp = RandomForestClassifier(max_depth = int(search_space['max_depth']),\n",
        "                                    min_samples_leaf = int(search_space['min_samples_leaf']),\n",
        "                                    min_samples_split = int(search_space['min_samples_split']))\n",
        "\n",
        "    \n",
        "    accuracy = cross_val_score(rfc_hp, X_train2, y_train, scoring='accuracy', cv = 5)\n",
        "\n",
        "    # accuracy는 높을수록 좋기 때문에 -1을 곱해줌\n",
        "    return {'loss': -1 * np.mean(accuracy), 'status': STATUS_OK }"
      ],
      "metadata": {
        "id": "fjmjySaqLz0O"
      },
      "execution_count": null,
      "outputs": []
    },
    {
      "cell_type": "code",
      "source": [
        "from hyperopt import fmin, tpe, Trials\n",
        "# 반복 결과를 저장할 변수 생성\n",
        "trial_val = Trials()\n",
        "\n",
        "# 50회 반복\n",
        "best = fmin(fn = objective_func,\n",
        "            space = rfc_search_space,\n",
        "            algo = tpe.suggest,     # 최적화에 적용할 알고리즘 기본값\n",
        "            max_evals = 50,\n",
        "            trials = trial_val)\n",
        "\n",
        "print('best :', best)"
      ],
      "metadata": {
        "colab": {
          "base_uri": "https://localhost:8080/"
        },
        "id": "tC4wOtKSL5vj",
        "outputId": "6cbfea40-77ba-4a7c-b697-a0cff073f103"
      },
      "execution_count": null,
      "outputs": [
        {
          "output_type": "stream",
          "name": "stdout",
          "text": [
            "100%|██████████| 50/50 [02:14<00:00,  2.69s/it, best loss: -0.7956580070235688]\n",
            "best : {'max_depth': 15.0, 'min_samples_leaf': 4.0, 'min_samples_split': 3.0, 'n_estimators': 60.0}\n"
          ]
        }
      ]
    },
    {
      "cell_type": "code",
      "source": [
        "# 구한 하이퍼파라미터를 모델에 넣어 다시 학습\n",
        "rfc_model3 = RandomForestClassifier(max_depth = 15,\n",
        "                                    min_samples_leaf = 4,\n",
        "                                    min_samples_split = 3,\n",
        "                                    n_estimators = 60, random_state=100)\n",
        "rfc_model3.fit(X_train2, y_train)\n",
        "rfc_pred3 = rfc_model3.predict(X_test2)"
      ],
      "metadata": {
        "id": "oszagBXkMwur"
      },
      "execution_count": null,
      "outputs": []
    },
    {
      "cell_type": "code",
      "source": [
        "X_test2.shape"
      ],
      "metadata": {
        "colab": {
          "base_uri": "https://localhost:8080/"
        },
        "id": "yHc_JckxM435",
        "outputId": "05160432-283b-4808-d34f-e45a51ef0705"
      },
      "execution_count": null,
      "outputs": [
        {
          "output_type": "execute_result",
          "data": {
            "text/plain": [
              "(1739, 11)"
            ]
          },
          "metadata": {},
          "execution_count": 100
        }
      ]
    },
    {
      "cell_type": "code",
      "source": [
        "y_test.shape"
      ],
      "metadata": {
        "colab": {
          "base_uri": "https://localhost:8080/"
        },
        "id": "IPMkLM45M6_o",
        "outputId": "e76b157b-e441-425a-cbec-a1a101d37b71"
      },
      "execution_count": null,
      "outputs": [
        {
          "output_type": "execute_result",
          "data": {
            "text/plain": [
              "(1739,)"
            ]
          },
          "metadata": {},
          "execution_count": 101
        }
      ]
    },
    {
      "cell_type": "code",
      "source": [
        "eval_model(y_test, rfc_pred3, rfc_model3)"
      ],
      "metadata": {
        "colab": {
          "base_uri": "https://localhost:8080/",
          "height": 560
        },
        "id": "u94g4eq-KlP5",
        "outputId": "e21da5ff-4207-4725-a54d-2726d0bad227"
      },
      "execution_count": null,
      "outputs": [
        {
          "output_type": "stream",
          "name": "stdout",
          "text": [
            "accuracy_score : 0.802760\n"
          ]
        },
        {
          "output_type": "stream",
          "name": "stderr",
          "text": [
            "/usr/local/lib/python3.7/dist-packages/sklearn/base.py:493: FutureWarning: The feature names should match those that were passed during fit. Starting version 1.2, an error will be raised.\n",
            "Feature names unseen at fit time:\n",
            "- age\n",
            "- cabin_deck_b\n",
            "- cabin_deck_c\n",
            "- cabin_deck_d\n",
            "- cabin_deck_g\n",
            "- ...\n",
            "Feature names must be in the same order as they were in fit.\n",
            "\n",
            "  warnings.warn(message, FutureWarning)\n"
          ]
        },
        {
          "output_type": "error",
          "ename": "ValueError",
          "evalue": "ignored",
          "traceback": [
            "\u001b[0;31m---------------------------------------------------------------------------\u001b[0m",
            "\u001b[0;31mValueError\u001b[0m                                Traceback (most recent call last)",
            "\u001b[0;32m<ipython-input-103-5c919716431c>\u001b[0m in \u001b[0;36m<module>\u001b[0;34m\u001b[0m\n\u001b[0;32m----> 1\u001b[0;31m \u001b[0meval_model\u001b[0m\u001b[0;34m(\u001b[0m\u001b[0my_test\u001b[0m\u001b[0;34m,\u001b[0m \u001b[0mrfc_pred3\u001b[0m\u001b[0;34m,\u001b[0m \u001b[0mrfc_model3\u001b[0m\u001b[0;34m)\u001b[0m\u001b[0;34m\u001b[0m\u001b[0;34m\u001b[0m\u001b[0m\n\u001b[0m",
            "\u001b[0;32m<ipython-input-102-235b512dda3f>\u001b[0m in \u001b[0;36meval_model\u001b[0;34m(y_test, pred, model)\u001b[0m\n\u001b[1;32m      7\u001b[0m     \u001b[0;31m# model 입력 했으면 roc auc score 출력\u001b[0m\u001b[0;34m\u001b[0m\u001b[0;34m\u001b[0m\u001b[0;34m\u001b[0m\u001b[0m\n\u001b[1;32m      8\u001b[0m     \u001b[0;32mif\u001b[0m \u001b[0mmodel\u001b[0m \u001b[0;34m:\u001b[0m\u001b[0;34m\u001b[0m\u001b[0;34m\u001b[0m\u001b[0m\n\u001b[0;32m----> 9\u001b[0;31m         \u001b[0mpred_proba\u001b[0m \u001b[0;34m=\u001b[0m \u001b[0mmodel\u001b[0m\u001b[0;34m.\u001b[0m\u001b[0mpredict_proba\u001b[0m\u001b[0;34m(\u001b[0m\u001b[0mX_test\u001b[0m\u001b[0;34m)\u001b[0m\u001b[0;34m[\u001b[0m\u001b[0;34m:\u001b[0m\u001b[0;34m,\u001b[0m \u001b[0;36m1\u001b[0m\u001b[0;34m]\u001b[0m\u001b[0;34m\u001b[0m\u001b[0;34m\u001b[0m\u001b[0m\n\u001b[0m\u001b[1;32m     10\u001b[0m         \u001b[0mprint\u001b[0m\u001b[0;34m(\u001b[0m\u001b[0;34mf\"roc-auc score  : {roc_auc_score(y_test, pred_proba):.6f}\"\u001b[0m\u001b[0;34m)\u001b[0m\u001b[0;34m\u001b[0m\u001b[0;34m\u001b[0m\u001b[0m\n\u001b[1;32m     11\u001b[0m     \u001b[0;32melse\u001b[0m \u001b[0;34m:\u001b[0m\u001b[0;34m\u001b[0m\u001b[0;34m\u001b[0m\u001b[0m\n",
            "\u001b[0;32m/usr/local/lib/python3.7/dist-packages/sklearn/ensemble/_forest.py\u001b[0m in \u001b[0;36mpredict_proba\u001b[0;34m(self, X)\u001b[0m\n\u001b[1;32m    848\u001b[0m         \u001b[0mcheck_is_fitted\u001b[0m\u001b[0;34m(\u001b[0m\u001b[0mself\u001b[0m\u001b[0;34m)\u001b[0m\u001b[0;34m\u001b[0m\u001b[0;34m\u001b[0m\u001b[0m\n\u001b[1;32m    849\u001b[0m         \u001b[0;31m# Check data\u001b[0m\u001b[0;34m\u001b[0m\u001b[0;34m\u001b[0m\u001b[0;34m\u001b[0m\u001b[0m\n\u001b[0;32m--> 850\u001b[0;31m         \u001b[0mX\u001b[0m \u001b[0;34m=\u001b[0m \u001b[0mself\u001b[0m\u001b[0;34m.\u001b[0m\u001b[0m_validate_X_predict\u001b[0m\u001b[0;34m(\u001b[0m\u001b[0mX\u001b[0m\u001b[0;34m)\u001b[0m\u001b[0;34m\u001b[0m\u001b[0;34m\u001b[0m\u001b[0m\n\u001b[0m\u001b[1;32m    851\u001b[0m \u001b[0;34m\u001b[0m\u001b[0m\n\u001b[1;32m    852\u001b[0m         \u001b[0;31m# Assign chunk of trees to jobs\u001b[0m\u001b[0;34m\u001b[0m\u001b[0;34m\u001b[0m\u001b[0;34m\u001b[0m\u001b[0m\n",
            "\u001b[0;32m/usr/local/lib/python3.7/dist-packages/sklearn/ensemble/_forest.py\u001b[0m in \u001b[0;36m_validate_X_predict\u001b[0;34m(self, X)\u001b[0m\n\u001b[1;32m    577\u001b[0m         Validate X whenever one tries to predict, apply, predict_proba.\"\"\"\n\u001b[1;32m    578\u001b[0m         \u001b[0mcheck_is_fitted\u001b[0m\u001b[0;34m(\u001b[0m\u001b[0mself\u001b[0m\u001b[0;34m)\u001b[0m\u001b[0;34m\u001b[0m\u001b[0;34m\u001b[0m\u001b[0m\n\u001b[0;32m--> 579\u001b[0;31m         \u001b[0mX\u001b[0m \u001b[0;34m=\u001b[0m \u001b[0mself\u001b[0m\u001b[0;34m.\u001b[0m\u001b[0m_validate_data\u001b[0m\u001b[0;34m(\u001b[0m\u001b[0mX\u001b[0m\u001b[0;34m,\u001b[0m \u001b[0mdtype\u001b[0m\u001b[0;34m=\u001b[0m\u001b[0mDTYPE\u001b[0m\u001b[0;34m,\u001b[0m \u001b[0maccept_sparse\u001b[0m\u001b[0;34m=\u001b[0m\u001b[0;34m\"csr\"\u001b[0m\u001b[0;34m,\u001b[0m \u001b[0mreset\u001b[0m\u001b[0;34m=\u001b[0m\u001b[0;32mFalse\u001b[0m\u001b[0;34m)\u001b[0m\u001b[0;34m\u001b[0m\u001b[0;34m\u001b[0m\u001b[0m\n\u001b[0m\u001b[1;32m    580\u001b[0m         \u001b[0;32mif\u001b[0m \u001b[0missparse\u001b[0m\u001b[0;34m(\u001b[0m\u001b[0mX\u001b[0m\u001b[0;34m)\u001b[0m \u001b[0;32mand\u001b[0m \u001b[0;34m(\u001b[0m\u001b[0mX\u001b[0m\u001b[0;34m.\u001b[0m\u001b[0mindices\u001b[0m\u001b[0;34m.\u001b[0m\u001b[0mdtype\u001b[0m \u001b[0;34m!=\u001b[0m \u001b[0mnp\u001b[0m\u001b[0;34m.\u001b[0m\u001b[0mintc\u001b[0m \u001b[0;32mor\u001b[0m \u001b[0mX\u001b[0m\u001b[0;34m.\u001b[0m\u001b[0mindptr\u001b[0m\u001b[0;34m.\u001b[0m\u001b[0mdtype\u001b[0m \u001b[0;34m!=\u001b[0m \u001b[0mnp\u001b[0m\u001b[0;34m.\u001b[0m\u001b[0mintc\u001b[0m\u001b[0;34m)\u001b[0m\u001b[0;34m:\u001b[0m\u001b[0;34m\u001b[0m\u001b[0;34m\u001b[0m\u001b[0m\n\u001b[1;32m    581\u001b[0m             \u001b[0;32mraise\u001b[0m \u001b[0mValueError\u001b[0m\u001b[0;34m(\u001b[0m\u001b[0;34m\"No support for np.int64 index based sparse matrices\"\u001b[0m\u001b[0;34m)\u001b[0m\u001b[0;34m\u001b[0m\u001b[0;34m\u001b[0m\u001b[0m\n",
            "\u001b[0;32m/usr/local/lib/python3.7/dist-packages/sklearn/base.py\u001b[0m in \u001b[0;36m_validate_data\u001b[0;34m(self, X, y, reset, validate_separately, **check_params)\u001b[0m\n\u001b[1;32m    583\u001b[0m \u001b[0;34m\u001b[0m\u001b[0m\n\u001b[1;32m    584\u001b[0m         \u001b[0;32mif\u001b[0m \u001b[0;32mnot\u001b[0m \u001b[0mno_val_X\u001b[0m \u001b[0;32mand\u001b[0m \u001b[0mcheck_params\u001b[0m\u001b[0;34m.\u001b[0m\u001b[0mget\u001b[0m\u001b[0;34m(\u001b[0m\u001b[0;34m\"ensure_2d\"\u001b[0m\u001b[0;34m,\u001b[0m \u001b[0;32mTrue\u001b[0m\u001b[0;34m)\u001b[0m\u001b[0;34m:\u001b[0m\u001b[0;34m\u001b[0m\u001b[0;34m\u001b[0m\u001b[0m\n\u001b[0;32m--> 585\u001b[0;31m             \u001b[0mself\u001b[0m\u001b[0;34m.\u001b[0m\u001b[0m_check_n_features\u001b[0m\u001b[0;34m(\u001b[0m\u001b[0mX\u001b[0m\u001b[0;34m,\u001b[0m \u001b[0mreset\u001b[0m\u001b[0;34m=\u001b[0m\u001b[0mreset\u001b[0m\u001b[0;34m)\u001b[0m\u001b[0;34m\u001b[0m\u001b[0;34m\u001b[0m\u001b[0m\n\u001b[0m\u001b[1;32m    586\u001b[0m \u001b[0;34m\u001b[0m\u001b[0m\n\u001b[1;32m    587\u001b[0m         \u001b[0;32mreturn\u001b[0m \u001b[0mout\u001b[0m\u001b[0;34m\u001b[0m\u001b[0;34m\u001b[0m\u001b[0m\n",
            "\u001b[0;32m/usr/local/lib/python3.7/dist-packages/sklearn/base.py\u001b[0m in \u001b[0;36m_check_n_features\u001b[0;34m(self, X, reset)\u001b[0m\n\u001b[1;32m    399\u001b[0m         \u001b[0;32mif\u001b[0m \u001b[0mn_features\u001b[0m \u001b[0;34m!=\u001b[0m \u001b[0mself\u001b[0m\u001b[0;34m.\u001b[0m\u001b[0mn_features_in_\u001b[0m\u001b[0;34m:\u001b[0m\u001b[0;34m\u001b[0m\u001b[0;34m\u001b[0m\u001b[0m\n\u001b[1;32m    400\u001b[0m             raise ValueError(\n\u001b[0;32m--> 401\u001b[0;31m                 \u001b[0;34mf\"X has {n_features} features, but {self.__class__.__name__} \"\u001b[0m\u001b[0;34m\u001b[0m\u001b[0;34m\u001b[0m\u001b[0m\n\u001b[0m\u001b[1;32m    402\u001b[0m                 \u001b[0;34mf\"is expecting {self.n_features_in_} features as input.\"\u001b[0m\u001b[0;34m\u001b[0m\u001b[0;34m\u001b[0m\u001b[0m\n\u001b[1;32m    403\u001b[0m             )\n",
            "\u001b[0;31mValueError\u001b[0m: X has 25 features, but RandomForestClassifier is expecting 11 features as input."
          ]
        }
      ]
    },
    {
      "cell_type": "code",
      "source": [
        "X_test2.head()"
      ],
      "metadata": {
        "colab": {
          "base_uri": "https://localhost:8080/",
          "height": 287
        },
        "id": "qBlfFDMlKmPC",
        "outputId": "96733460-3966-4d4f-ecbc-bfd78beba77c"
      },
      "execution_count": null,
      "outputs": [
        {
          "output_type": "execute_result",
          "data": {
            "text/plain": [
              "      roomservice  foodcourt  shoppingmall    spa  vrdeck  spend  \\\n",
              "6913          0.0       63.0           8.0  129.0  2960.0      1   \n",
              "7066       1366.0      257.0           0.0    0.0   311.0      1   \n",
              "8001          0.0        0.0           0.0    0.0     0.0      0   \n",
              "1200          0.0        0.0           0.0    0.0     0.0      0   \n",
              "4442        154.0        7.0         241.0  213.0   453.0      1   \n",
              "\n",
              "      homeplanet_mars  destination_pso j318.5-22  cabin_deck_e  cabin_deck_f  \\\n",
              "6913                0                          0             0             0   \n",
              "7066                0                          0             0             1   \n",
              "8001                1                          0             0             1   \n",
              "1200                0                          0             0             0   \n",
              "4442                0                          1             0             1   \n",
              "\n",
              "      cryosleep_true  \n",
              "6913               0  \n",
              "7066               0  \n",
              "8001               1  \n",
              "1200               1  \n",
              "4442               0  "
            ],
            "text/html": [
              "\n",
              "  <div id=\"df-28dbde12-e8f0-4993-bf89-0cf33231967c\">\n",
              "    <div class=\"colab-df-container\">\n",
              "      <div>\n",
              "<style scoped>\n",
              "    .dataframe tbody tr th:only-of-type {\n",
              "        vertical-align: middle;\n",
              "    }\n",
              "\n",
              "    .dataframe tbody tr th {\n",
              "        vertical-align: top;\n",
              "    }\n",
              "\n",
              "    .dataframe thead th {\n",
              "        text-align: right;\n",
              "    }\n",
              "</style>\n",
              "<table border=\"1\" class=\"dataframe\">\n",
              "  <thead>\n",
              "    <tr style=\"text-align: right;\">\n",
              "      <th></th>\n",
              "      <th>roomservice</th>\n",
              "      <th>foodcourt</th>\n",
              "      <th>shoppingmall</th>\n",
              "      <th>spa</th>\n",
              "      <th>vrdeck</th>\n",
              "      <th>spend</th>\n",
              "      <th>homeplanet_mars</th>\n",
              "      <th>destination_pso j318.5-22</th>\n",
              "      <th>cabin_deck_e</th>\n",
              "      <th>cabin_deck_f</th>\n",
              "      <th>cryosleep_true</th>\n",
              "    </tr>\n",
              "  </thead>\n",
              "  <tbody>\n",
              "    <tr>\n",
              "      <th>6913</th>\n",
              "      <td>0.0</td>\n",
              "      <td>63.0</td>\n",
              "      <td>8.0</td>\n",
              "      <td>129.0</td>\n",
              "      <td>2960.0</td>\n",
              "      <td>1</td>\n",
              "      <td>0</td>\n",
              "      <td>0</td>\n",
              "      <td>0</td>\n",
              "      <td>0</td>\n",
              "      <td>0</td>\n",
              "    </tr>\n",
              "    <tr>\n",
              "      <th>7066</th>\n",
              "      <td>1366.0</td>\n",
              "      <td>257.0</td>\n",
              "      <td>0.0</td>\n",
              "      <td>0.0</td>\n",
              "      <td>311.0</td>\n",
              "      <td>1</td>\n",
              "      <td>0</td>\n",
              "      <td>0</td>\n",
              "      <td>0</td>\n",
              "      <td>1</td>\n",
              "      <td>0</td>\n",
              "    </tr>\n",
              "    <tr>\n",
              "      <th>8001</th>\n",
              "      <td>0.0</td>\n",
              "      <td>0.0</td>\n",
              "      <td>0.0</td>\n",
              "      <td>0.0</td>\n",
              "      <td>0.0</td>\n",
              "      <td>0</td>\n",
              "      <td>1</td>\n",
              "      <td>0</td>\n",
              "      <td>0</td>\n",
              "      <td>1</td>\n",
              "      <td>1</td>\n",
              "    </tr>\n",
              "    <tr>\n",
              "      <th>1200</th>\n",
              "      <td>0.0</td>\n",
              "      <td>0.0</td>\n",
              "      <td>0.0</td>\n",
              "      <td>0.0</td>\n",
              "      <td>0.0</td>\n",
              "      <td>0</td>\n",
              "      <td>0</td>\n",
              "      <td>0</td>\n",
              "      <td>0</td>\n",
              "      <td>0</td>\n",
              "      <td>1</td>\n",
              "    </tr>\n",
              "    <tr>\n",
              "      <th>4442</th>\n",
              "      <td>154.0</td>\n",
              "      <td>7.0</td>\n",
              "      <td>241.0</td>\n",
              "      <td>213.0</td>\n",
              "      <td>453.0</td>\n",
              "      <td>1</td>\n",
              "      <td>0</td>\n",
              "      <td>1</td>\n",
              "      <td>0</td>\n",
              "      <td>1</td>\n",
              "      <td>0</td>\n",
              "    </tr>\n",
              "  </tbody>\n",
              "</table>\n",
              "</div>\n",
              "      <button class=\"colab-df-convert\" onclick=\"convertToInteractive('df-28dbde12-e8f0-4993-bf89-0cf33231967c')\"\n",
              "              title=\"Convert this dataframe to an interactive table.\"\n",
              "              style=\"display:none;\">\n",
              "        \n",
              "  <svg xmlns=\"http://www.w3.org/2000/svg\" height=\"24px\"viewBox=\"0 0 24 24\"\n",
              "       width=\"24px\">\n",
              "    <path d=\"M0 0h24v24H0V0z\" fill=\"none\"/>\n",
              "    <path d=\"M18.56 5.44l.94 2.06.94-2.06 2.06-.94-2.06-.94-.94-2.06-.94 2.06-2.06.94zm-11 1L8.5 8.5l.94-2.06 2.06-.94-2.06-.94L8.5 2.5l-.94 2.06-2.06.94zm10 10l.94 2.06.94-2.06 2.06-.94-2.06-.94-.94-2.06-.94 2.06-2.06.94z\"/><path d=\"M17.41 7.96l-1.37-1.37c-.4-.4-.92-.59-1.43-.59-.52 0-1.04.2-1.43.59L10.3 9.45l-7.72 7.72c-.78.78-.78 2.05 0 2.83L4 21.41c.39.39.9.59 1.41.59.51 0 1.02-.2 1.41-.59l7.78-7.78 2.81-2.81c.8-.78.8-2.07 0-2.86zM5.41 20L4 18.59l7.72-7.72 1.47 1.35L5.41 20z\"/>\n",
              "  </svg>\n",
              "      </button>\n",
              "      \n",
              "  <style>\n",
              "    .colab-df-container {\n",
              "      display:flex;\n",
              "      flex-wrap:wrap;\n",
              "      gap: 12px;\n",
              "    }\n",
              "\n",
              "    .colab-df-convert {\n",
              "      background-color: #E8F0FE;\n",
              "      border: none;\n",
              "      border-radius: 50%;\n",
              "      cursor: pointer;\n",
              "      display: none;\n",
              "      fill: #1967D2;\n",
              "      height: 32px;\n",
              "      padding: 0 0 0 0;\n",
              "      width: 32px;\n",
              "    }\n",
              "\n",
              "    .colab-df-convert:hover {\n",
              "      background-color: #E2EBFA;\n",
              "      box-shadow: 0px 1px 2px rgba(60, 64, 67, 0.3), 0px 1px 3px 1px rgba(60, 64, 67, 0.15);\n",
              "      fill: #174EA6;\n",
              "    }\n",
              "\n",
              "    [theme=dark] .colab-df-convert {\n",
              "      background-color: #3B4455;\n",
              "      fill: #D2E3FC;\n",
              "    }\n",
              "\n",
              "    [theme=dark] .colab-df-convert:hover {\n",
              "      background-color: #434B5C;\n",
              "      box-shadow: 0px 1px 3px 1px rgba(0, 0, 0, 0.15);\n",
              "      filter: drop-shadow(0px 1px 2px rgba(0, 0, 0, 0.3));\n",
              "      fill: #FFFFFF;\n",
              "    }\n",
              "  </style>\n",
              "\n",
              "      <script>\n",
              "        const buttonEl =\n",
              "          document.querySelector('#df-28dbde12-e8f0-4993-bf89-0cf33231967c button.colab-df-convert');\n",
              "        buttonEl.style.display =\n",
              "          google.colab.kernel.accessAllowed ? 'block' : 'none';\n",
              "\n",
              "        async function convertToInteractive(key) {\n",
              "          const element = document.querySelector('#df-28dbde12-e8f0-4993-bf89-0cf33231967c');\n",
              "          const dataTable =\n",
              "            await google.colab.kernel.invokeFunction('convertToInteractive',\n",
              "                                                     [key], {});\n",
              "          if (!dataTable) return;\n",
              "\n",
              "          const docLinkHtml = 'Like what you see? Visit the ' +\n",
              "            '<a target=\"_blank\" href=https://colab.research.google.com/notebooks/data_table.ipynb>data table notebook</a>'\n",
              "            + ' to learn more about interactive tables.';\n",
              "          element.innerHTML = '';\n",
              "          dataTable['output_type'] = 'display_data';\n",
              "          await google.colab.output.renderOutput(dataTable, element);\n",
              "          const docLink = document.createElement('div');\n",
              "          docLink.innerHTML = docLinkHtml;\n",
              "          element.appendChild(docLink);\n",
              "        }\n",
              "      </script>\n",
              "    </div>\n",
              "  </div>\n",
              "  "
            ]
          },
          "metadata": {},
          "execution_count": 86
        }
      ]
    },
    {
      "cell_type": "code",
      "source": [
        "# 정확도 약간 상승 : 79.7 -> 80.3\n",
        "eval_model(y_test2, rfc_pred3, rfc_model3)"
      ],
      "metadata": {
        "colab": {
          "base_uri": "https://localhost:8080/",
          "height": 578
        },
        "id": "f54j531sNBzn",
        "outputId": "d5adda87-5b37-42b8-f11d-584b835f580c"
      },
      "execution_count": null,
      "outputs": [
        {
          "output_type": "stream",
          "name": "stdout",
          "text": [
            "accuracy_score : 0.799885\n"
          ]
        },
        {
          "output_type": "stream",
          "name": "stderr",
          "text": [
            "/usr/local/lib/python3.7/dist-packages/sklearn/base.py:493: FutureWarning: The feature names should match those that were passed during fit. Starting version 1.2, an error will be raised.\n",
            "Feature names unseen at fit time:\n",
            "- age\n",
            "- cabin_deck_b\n",
            "- cabin_deck_c\n",
            "- cabin_deck_d\n",
            "- cabin_deck_g\n",
            "- ...\n",
            "Feature names must be in the same order as they were in fit.\n",
            "\n",
            "  warnings.warn(message, FutureWarning)\n"
          ]
        },
        {
          "output_type": "error",
          "ename": "ValueError",
          "evalue": "ignored",
          "traceback": [
            "\u001b[0;31m---------------------------------------------------------------------------\u001b[0m",
            "\u001b[0;31mValueError\u001b[0m                                Traceback (most recent call last)",
            "\u001b[0;32m<ipython-input-84-b61d4cb65699>\u001b[0m in \u001b[0;36m<module>\u001b[0;34m\u001b[0m\n\u001b[1;32m      1\u001b[0m \u001b[0;31m# 정확도 약간 상승 : 79.7 -> 80.3\u001b[0m\u001b[0;34m\u001b[0m\u001b[0;34m\u001b[0m\u001b[0;34m\u001b[0m\u001b[0m\n\u001b[0;32m----> 2\u001b[0;31m \u001b[0meval_model\u001b[0m\u001b[0;34m(\u001b[0m\u001b[0my_test2\u001b[0m\u001b[0;34m,\u001b[0m \u001b[0mrfc_pred3\u001b[0m\u001b[0;34m,\u001b[0m \u001b[0mrfc_model3\u001b[0m\u001b[0;34m)\u001b[0m\u001b[0;34m\u001b[0m\u001b[0;34m\u001b[0m\u001b[0m\n\u001b[0m",
            "\u001b[0;32m<ipython-input-18-235b512dda3f>\u001b[0m in \u001b[0;36meval_model\u001b[0;34m(y_test, pred, model)\u001b[0m\n\u001b[1;32m      7\u001b[0m     \u001b[0;31m# model 입력 했으면 roc auc score 출력\u001b[0m\u001b[0;34m\u001b[0m\u001b[0;34m\u001b[0m\u001b[0;34m\u001b[0m\u001b[0m\n\u001b[1;32m      8\u001b[0m     \u001b[0;32mif\u001b[0m \u001b[0mmodel\u001b[0m \u001b[0;34m:\u001b[0m\u001b[0;34m\u001b[0m\u001b[0;34m\u001b[0m\u001b[0m\n\u001b[0;32m----> 9\u001b[0;31m         \u001b[0mpred_proba\u001b[0m \u001b[0;34m=\u001b[0m \u001b[0mmodel\u001b[0m\u001b[0;34m.\u001b[0m\u001b[0mpredict_proba\u001b[0m\u001b[0;34m(\u001b[0m\u001b[0mX_test\u001b[0m\u001b[0;34m)\u001b[0m\u001b[0;34m[\u001b[0m\u001b[0;34m:\u001b[0m\u001b[0;34m,\u001b[0m \u001b[0;36m1\u001b[0m\u001b[0;34m]\u001b[0m\u001b[0;34m\u001b[0m\u001b[0;34m\u001b[0m\u001b[0m\n\u001b[0m\u001b[1;32m     10\u001b[0m         \u001b[0mprint\u001b[0m\u001b[0;34m(\u001b[0m\u001b[0;34mf\"roc-auc score  : {roc_auc_score(y_test, pred_proba):.6f}\"\u001b[0m\u001b[0;34m)\u001b[0m\u001b[0;34m\u001b[0m\u001b[0;34m\u001b[0m\u001b[0m\n\u001b[1;32m     11\u001b[0m     \u001b[0;32melse\u001b[0m \u001b[0;34m:\u001b[0m\u001b[0;34m\u001b[0m\u001b[0;34m\u001b[0m\u001b[0m\n",
            "\u001b[0;32m/usr/local/lib/python3.7/dist-packages/sklearn/ensemble/_forest.py\u001b[0m in \u001b[0;36mpredict_proba\u001b[0;34m(self, X)\u001b[0m\n\u001b[1;32m    848\u001b[0m         \u001b[0mcheck_is_fitted\u001b[0m\u001b[0;34m(\u001b[0m\u001b[0mself\u001b[0m\u001b[0;34m)\u001b[0m\u001b[0;34m\u001b[0m\u001b[0;34m\u001b[0m\u001b[0m\n\u001b[1;32m    849\u001b[0m         \u001b[0;31m# Check data\u001b[0m\u001b[0;34m\u001b[0m\u001b[0;34m\u001b[0m\u001b[0;34m\u001b[0m\u001b[0m\n\u001b[0;32m--> 850\u001b[0;31m         \u001b[0mX\u001b[0m \u001b[0;34m=\u001b[0m \u001b[0mself\u001b[0m\u001b[0;34m.\u001b[0m\u001b[0m_validate_X_predict\u001b[0m\u001b[0;34m(\u001b[0m\u001b[0mX\u001b[0m\u001b[0;34m)\u001b[0m\u001b[0;34m\u001b[0m\u001b[0;34m\u001b[0m\u001b[0m\n\u001b[0m\u001b[1;32m    851\u001b[0m \u001b[0;34m\u001b[0m\u001b[0m\n\u001b[1;32m    852\u001b[0m         \u001b[0;31m# Assign chunk of trees to jobs\u001b[0m\u001b[0;34m\u001b[0m\u001b[0;34m\u001b[0m\u001b[0;34m\u001b[0m\u001b[0m\n",
            "\u001b[0;32m/usr/local/lib/python3.7/dist-packages/sklearn/ensemble/_forest.py\u001b[0m in \u001b[0;36m_validate_X_predict\u001b[0;34m(self, X)\u001b[0m\n\u001b[1;32m    577\u001b[0m         Validate X whenever one tries to predict, apply, predict_proba.\"\"\"\n\u001b[1;32m    578\u001b[0m         \u001b[0mcheck_is_fitted\u001b[0m\u001b[0;34m(\u001b[0m\u001b[0mself\u001b[0m\u001b[0;34m)\u001b[0m\u001b[0;34m\u001b[0m\u001b[0;34m\u001b[0m\u001b[0m\n\u001b[0;32m--> 579\u001b[0;31m         \u001b[0mX\u001b[0m \u001b[0;34m=\u001b[0m \u001b[0mself\u001b[0m\u001b[0;34m.\u001b[0m\u001b[0m_validate_data\u001b[0m\u001b[0;34m(\u001b[0m\u001b[0mX\u001b[0m\u001b[0;34m,\u001b[0m \u001b[0mdtype\u001b[0m\u001b[0;34m=\u001b[0m\u001b[0mDTYPE\u001b[0m\u001b[0;34m,\u001b[0m \u001b[0maccept_sparse\u001b[0m\u001b[0;34m=\u001b[0m\u001b[0;34m\"csr\"\u001b[0m\u001b[0;34m,\u001b[0m \u001b[0mreset\u001b[0m\u001b[0;34m=\u001b[0m\u001b[0;32mFalse\u001b[0m\u001b[0;34m)\u001b[0m\u001b[0;34m\u001b[0m\u001b[0;34m\u001b[0m\u001b[0m\n\u001b[0m\u001b[1;32m    580\u001b[0m         \u001b[0;32mif\u001b[0m \u001b[0missparse\u001b[0m\u001b[0;34m(\u001b[0m\u001b[0mX\u001b[0m\u001b[0;34m)\u001b[0m \u001b[0;32mand\u001b[0m \u001b[0;34m(\u001b[0m\u001b[0mX\u001b[0m\u001b[0;34m.\u001b[0m\u001b[0mindices\u001b[0m\u001b[0;34m.\u001b[0m\u001b[0mdtype\u001b[0m \u001b[0;34m!=\u001b[0m \u001b[0mnp\u001b[0m\u001b[0;34m.\u001b[0m\u001b[0mintc\u001b[0m \u001b[0;32mor\u001b[0m \u001b[0mX\u001b[0m\u001b[0;34m.\u001b[0m\u001b[0mindptr\u001b[0m\u001b[0;34m.\u001b[0m\u001b[0mdtype\u001b[0m \u001b[0;34m!=\u001b[0m \u001b[0mnp\u001b[0m\u001b[0;34m.\u001b[0m\u001b[0mintc\u001b[0m\u001b[0;34m)\u001b[0m\u001b[0;34m:\u001b[0m\u001b[0;34m\u001b[0m\u001b[0;34m\u001b[0m\u001b[0m\n\u001b[1;32m    581\u001b[0m             \u001b[0;32mraise\u001b[0m \u001b[0mValueError\u001b[0m\u001b[0;34m(\u001b[0m\u001b[0;34m\"No support for np.int64 index based sparse matrices\"\u001b[0m\u001b[0;34m)\u001b[0m\u001b[0;34m\u001b[0m\u001b[0;34m\u001b[0m\u001b[0m\n",
            "\u001b[0;32m/usr/local/lib/python3.7/dist-packages/sklearn/base.py\u001b[0m in \u001b[0;36m_validate_data\u001b[0;34m(self, X, y, reset, validate_separately, **check_params)\u001b[0m\n\u001b[1;32m    583\u001b[0m \u001b[0;34m\u001b[0m\u001b[0m\n\u001b[1;32m    584\u001b[0m         \u001b[0;32mif\u001b[0m \u001b[0;32mnot\u001b[0m \u001b[0mno_val_X\u001b[0m \u001b[0;32mand\u001b[0m \u001b[0mcheck_params\u001b[0m\u001b[0;34m.\u001b[0m\u001b[0mget\u001b[0m\u001b[0;34m(\u001b[0m\u001b[0;34m\"ensure_2d\"\u001b[0m\u001b[0;34m,\u001b[0m \u001b[0;32mTrue\u001b[0m\u001b[0;34m)\u001b[0m\u001b[0;34m:\u001b[0m\u001b[0;34m\u001b[0m\u001b[0;34m\u001b[0m\u001b[0m\n\u001b[0;32m--> 585\u001b[0;31m             \u001b[0mself\u001b[0m\u001b[0;34m.\u001b[0m\u001b[0m_check_n_features\u001b[0m\u001b[0;34m(\u001b[0m\u001b[0mX\u001b[0m\u001b[0;34m,\u001b[0m \u001b[0mreset\u001b[0m\u001b[0;34m=\u001b[0m\u001b[0mreset\u001b[0m\u001b[0;34m)\u001b[0m\u001b[0;34m\u001b[0m\u001b[0;34m\u001b[0m\u001b[0m\n\u001b[0m\u001b[1;32m    586\u001b[0m \u001b[0;34m\u001b[0m\u001b[0m\n\u001b[1;32m    587\u001b[0m         \u001b[0;32mreturn\u001b[0m \u001b[0mout\u001b[0m\u001b[0;34m\u001b[0m\u001b[0;34m\u001b[0m\u001b[0m\n",
            "\u001b[0;32m/usr/local/lib/python3.7/dist-packages/sklearn/base.py\u001b[0m in \u001b[0;36m_check_n_features\u001b[0;34m(self, X, reset)\u001b[0m\n\u001b[1;32m    399\u001b[0m         \u001b[0;32mif\u001b[0m \u001b[0mn_features\u001b[0m \u001b[0;34m!=\u001b[0m \u001b[0mself\u001b[0m\u001b[0;34m.\u001b[0m\u001b[0mn_features_in_\u001b[0m\u001b[0;34m:\u001b[0m\u001b[0;34m\u001b[0m\u001b[0;34m\u001b[0m\u001b[0m\n\u001b[1;32m    400\u001b[0m             raise ValueError(\n\u001b[0;32m--> 401\u001b[0;31m                 \u001b[0;34mf\"X has {n_features} features, but {self.__class__.__name__} \"\u001b[0m\u001b[0;34m\u001b[0m\u001b[0;34m\u001b[0m\u001b[0m\n\u001b[0m\u001b[1;32m    402\u001b[0m                 \u001b[0;34mf\"is expecting {self.n_features_in_} features as input.\"\u001b[0m\u001b[0;34m\u001b[0m\u001b[0;34m\u001b[0m\u001b[0m\n\u001b[1;32m    403\u001b[0m             )\n",
            "\u001b[0;31mValueError\u001b[0m: X has 25 features, but RandomForestClassifier is expecting 11 features as input."
          ]
        }
      ]
    },
    {
      "cell_type": "code",
      "source": [
        "# 과적합 완화\n",
        "accuracy_score(y_train, rfc_model2.predict(X_train))"
      ],
      "metadata": {
        "colab": {
          "base_uri": "https://localhost:8080/"
        },
        "id": "AMjAjzcVNHmK",
        "outputId": "149f4871-f475-4927-9870-8ff167b6fe02"
      },
      "execution_count": null,
      "outputs": [
        {
          "output_type": "execute_result",
          "data": {
            "text/plain": [
              "0.8198159332758125"
            ]
          },
          "metadata": {},
          "execution_count": 95
        }
      ]
    },
    {
      "cell_type": "markdown",
      "source": [
        "# 모델 학습(LGBM)"
      ],
      "metadata": {
        "id": "JXXI7NFZGESU"
      }
    },
    {
      "cell_type": "code",
      "source": [
        "#@title 기본 전처리 후 학습 (조기 중단)\n",
        "from lightgbm import LGBMClassifier\n",
        "\n",
        "lgbm_model1 = LGBMClassifier(n_estimators=500, learning_rate=0.01, random_state=100)\n",
        "\n",
        "evals = [(X_tr, y_tr), (X_val, y_val)]\n",
        "lgbm_model1.fit(X_tr, y_tr, eval_set=evals, eval_metric='logloss', early_stopping_rounds=200, verbose=False)\n",
        "\n",
        "lgbm_pred1 = lgbm_model1.predict(X_test)"
      ],
      "metadata": {
        "id": "sbblVELfDoRo"
      },
      "execution_count": null,
      "outputs": []
    },
    {
      "cell_type": "code",
      "source": [
        "# 최초 모델 accuracy : 80.8%\n",
        "eval_model(y_test, lgbm_pred1, lgbm_model1)"
      ],
      "metadata": {
        "colab": {
          "base_uri": "https://localhost:8080/",
          "height": 623
        },
        "id": "YYTqZJq3D5cM",
        "outputId": "b0e72d4c-2d62-42ae-c4f8-a6a9aaaabc96"
      },
      "execution_count": null,
      "outputs": [
        {
          "output_type": "stream",
          "name": "stdout",
          "text": [
            "accuracy_score : 0.808511\n",
            "roc-auc score  : 0.892782\n",
            "\n",
            "-- confusion matrix --\n"
          ]
        },
        {
          "output_type": "display_data",
          "data": {
            "text/plain": [
              "<Figure size 432x288 with 2 Axes>"
            ],
            "image/png": "[encoded data removed]"
          },
          "metadata": {
            "needs_background": "light"
          }
        },
        {
          "output_type": "stream",
          "name": "stdout",
          "text": [
            "\n",
            "type I error probabilty  : 0.210877\n",
            "type II error probabilty : 0.170644\n",
            "\n",
            "\n",
            "-- classification report --\n",
            "              precision    recall  f1-score   support\n",
            "\n",
            "           0       0.83      0.79      0.81       885\n",
            "           1       0.79      0.83      0.81       854\n",
            "\n",
            "    accuracy                           0.81      1739\n",
            "   macro avg       0.81      0.81      0.81      1739\n",
            "weighted avg       0.81      0.81      0.81      1739\n",
            "\n"
          ]
        }
      ]
    },
    {
      "cell_type": "code",
      "source": [
        "# 과적합 약간\n",
        "accuracy_score(y_train, lgbm_model1.predict(X_train))"
      ],
      "metadata": {
        "colab": {
          "base_uri": "https://localhost:8080/"
        },
        "id": "KKvFVLZZD1SK",
        "outputId": "4969f268-0505-4d39-b0c0-cb2ffe9394cf"
      },
      "execution_count": null,
      "outputs": [
        {
          "output_type": "execute_result",
          "data": {
            "text/plain": [
              "0.8441184929536957"
            ]
          },
          "metadata": {},
          "execution_count": 23
        }
      ]
    },
    {
      "cell_type": "code",
      "source": [
        "#@title Random Grid Search\n",
        "from sklearn.model_selection import RandomizedSearchCV\n",
        "\n",
        "lgbm_model2 = LGBMClassifier(random_state=100)\n",
        "\n",
        "parameters = {'num_leaves':[20,40,60,80,100],\n",
        "              'min_child_samples':[5,10,15],\n",
        "              'max_depth':[-1,5,10,20],\n",
        "             'learning_rate':[0.05,0.1,0.2],\n",
        "              'reg_alpha':[0,0.01,0.03]}\n",
        "\n",
        "grid_lgbm = RandomizedSearchCV(lgbm_model3, parameters,scoring='accuracy', n_iter=100)\n",
        "grid_lgbm.fit(X_train, y_train)\n",
        "print(grid_lgbm.best_params_)\n",
        "lgbm_pred3 = grid_lgbm.predict(X_test)\n",
        "print('Classification of the result is:')\n",
        "print(accuracy_score(y_test, lgbm_pred3))"
      ],
      "metadata": {
        "colab": {
          "base_uri": "https://localhost:8080/"
        },
        "outputId": "c9ea5138-eefb-4c5d-d8ea-b6b73b408abd",
        "id": "awicK5aLG4gb"
      },
      "execution_count": null,
      "outputs": [
        {
          "output_type": "stream",
          "name": "stdout",
          "text": [
            "{'reg_alpha': 0, 'num_leaves': 40, 'min_child_samples': 5, 'max_depth': 5, 'learning_rate': 0.05}\n",
            "Classification of the result is:\n",
            "0.8067855089131685\n"
          ]
        }
      ]
    },
    {
      "cell_type": "code",
      "source": [
        "lgbm_model3 = LGBMClassifier(reg_alpha = 0, num_leaves = 40, min_child_samples = 5, max_depth = 5, learning_rate = 0.05)\n",
        "\n",
        "evals = [(X_tr, y_tr), (X_val, y_val)]\n",
        "lgbm_model3.fit(X_tr, y_tr, eval_set=evals, eval_metric='logloss', early_stopping_rounds=200, verbose=False)\n",
        "\n",
        "lgbm_pred3 = lgbm_model3.predict(X_test)"
      ],
      "metadata": {
        "id": "Rq1EFuJqG4gc"
      },
      "execution_count": null,
      "outputs": []
    },
    {
      "cell_type": "code",
      "source": [
        "eval_model(y_test, lgbm_pred3, lgbm_model3)"
      ],
      "metadata": {
        "colab": {
          "base_uri": "https://localhost:8080/",
          "height": 623
        },
        "outputId": "225bc966-734c-4afe-f61c-bff083ce0c18",
        "id": "zg460kn6G4gd"
      },
      "execution_count": null,
      "outputs": [
        {
          "output_type": "stream",
          "name": "stdout",
          "text": [
            "accuracy_score : 0.802760\n",
            "roc-auc score  : 0.883953\n",
            "\n",
            "-- confusion matrix --\n"
          ]
        },
        {
          "output_type": "display_data",
          "data": {
            "text/plain": [
              "<Figure size 432x288 with 2 Axes>"
            ],
            "image/png": "[encoded data removed]"
          },
          "metadata": {
            "needs_background": "light"
          }
        },
        {
          "output_type": "stream",
          "name": "stdout",
          "text": [
            "\n",
            "type I error probabilty  : 0.237949\n",
            "type II error probabilty : 0.145288\n",
            "\n",
            "\n",
            "-- classification report --\n",
            "              precision    recall  f1-score   support\n",
            "\n",
            "           0       0.85      0.74      0.79       885\n",
            "           1       0.76      0.87      0.81       854\n",
            "\n",
            "    accuracy                           0.80      1739\n",
            "   macro avg       0.81      0.80      0.80      1739\n",
            "weighted avg       0.81      0.80      0.80      1739\n",
            "\n"
          ]
        }
      ]
    },
    {
      "cell_type": "code",
      "source": [
        "accuracy_score(y_train, lgbm_model3.predict(X_train))"
      ],
      "metadata": {
        "colab": {
          "base_uri": "https://localhost:8080/"
        },
        "outputId": "94ced923-c98b-41b0-a8f3-09d2fa17023f",
        "id": "bf_1cX7zG4ge"
      },
      "execution_count": null,
      "outputs": [
        {
          "output_type": "execute_result",
          "data": {
            "text/plain": [
              "0.8189531205061835"
            ]
          },
          "metadata": {},
          "execution_count": 134
        }
      ]
    },
    {
      "cell_type": "code",
      "source": [
        "#@title XGBoost (조기 중단 X)\n",
        "from xgboost import XGBClassifier\n",
        "\n",
        "xgb_model1 = XGBClassifier(n_estimators=500, max_depth=5, random_state = 100)\n",
        "xgb_model1.fit(X_train, y_train)\n",
        "\n",
        "xgb_pred1 = xgb_model1.predict(X_test)"
      ],
      "metadata": {
        "id": "Enaj0V-99d62"
      },
      "execution_count": null,
      "outputs": []
    },
    {
      "cell_type": "code",
      "source": [
        "# 최초 정확도 79.1\n",
        "eval_model(y_test, xgb_pred1, xgb_model1)"
      ],
      "metadata": {
        "colab": {
          "base_uri": "https://localhost:8080/",
          "height": 623
        },
        "id": "o9q2cBcx-h2J",
        "outputId": "f13c9453-3bbb-4954-ab3b-4883b4923661"
      },
      "execution_count": null,
      "outputs": [
        {
          "output_type": "stream",
          "name": "stdout",
          "text": [
            "accuracy_score : 0.791834\n",
            "roc-auc score  : 0.880005\n",
            "\n",
            "-- confusion matrix --\n"
          ]
        },
        {
          "output_type": "display_data",
          "data": {
            "text/plain": [
              "<Figure size 432x288 with 2 Axes>"
            ],
            "image/png": "[encoded data removed]"
          },
          "metadata": {
            "needs_background": "light"
          }
        },
        {
          "output_type": "stream",
          "name": "stdout",
          "text": [
            "\n",
            "type I error probabilty  : 0.219818\n",
            "type II error probabilty : 0.196283\n",
            "\n",
            "\n",
            "-- classification report --\n",
            "              precision    recall  f1-score   support\n",
            "\n",
            "           0       0.80      0.78      0.79       885\n",
            "           1       0.78      0.80      0.79       854\n",
            "\n",
            "    accuracy                           0.79      1739\n",
            "   macro avg       0.79      0.79      0.79      1739\n",
            "weighted avg       0.79      0.79      0.79      1739\n",
            "\n"
          ]
        }
      ]
    },
    {
      "cell_type": "code",
      "source": [
        "# 과적합 심함\n",
        "accuracy_score(y_train, xgb_model1.predict(X_train))"
      ],
      "metadata": {
        "colab": {
          "base_uri": "https://localhost:8080/"
        },
        "id": "8XQTsfm0_bxs",
        "outputId": "17e68ecb-3f3b-40c1-d512-11c1e5cf0027"
      },
      "execution_count": null,
      "outputs": [
        {
          "output_type": "execute_result",
          "data": {
            "text/plain": [
              "0.903940178314639"
            ]
          },
          "metadata": {},
          "execution_count": 41
        }
      ]
    },
    {
      "cell_type": "code",
      "source": [
        "#@title tree 기반 모델에서 feature의 중요도 확인\n",
        "pip install eli5"
      ],
      "metadata": {
        "id": "0k5y12L7ESF4"
      },
      "execution_count": null,
      "outputs": []
    },
    {
      "cell_type": "code",
      "source": [
        "# Permutation Feature Importance 사용\n",
        "import eli5\n",
        "from eli5.sklearn import PermutationImportance\n",
        "\n",
        "perm = PermutationImportance(lgbm_model1, random_state=42).fit(X_test, y_test)\n",
        "eli5.show_weights(perm, feature_names = X_test.columns.tolist(), top=25)"
      ],
      "metadata": {
        "id": "g9hDe_DTBTO2",
        "colab": {
          "base_uri": "https://localhost:8080/",
          "height": 468
        },
        "outputId": "06768875-9826-4d92-e092-97632c3cd3dc"
      },
      "execution_count": null,
      "outputs": [
        {
          "output_type": "execute_result",
          "data": {
            "text/plain": [
              "<IPython.core.display.HTML object>"
            ],
            "text/html": [
              "\n",
              "    <style>\n",
              "    table.eli5-weights tr:hover {\n",
              "        filter: brightness(85%);\n",
              "    }\n",
              "</style>\n",
              "\n",
              "\n",
              "\n",
              "    \n",
              "\n",
              "    \n",
              "\n",
              "    \n",
              "\n",
              "    \n",
              "\n",
              "    \n",
              "\n",
              "    \n",
              "\n",
              "\n",
              "    \n",
              "\n",
              "    \n",
              "\n",
              "    \n",
              "\n",
              "    \n",
              "\n",
              "    \n",
              "\n",
              "    \n",
              "\n",
              "\n",
              "    \n",
              "\n",
              "    \n",
              "\n",
              "    \n",
              "\n",
              "    \n",
              "\n",
              "    \n",
              "        <table class=\"eli5-weights eli5-feature-importances\" style=\"border-collapse: collapse; border: none; margin-top: 0em; table-layout: auto;\">\n",
              "    <thead>\n",
              "    <tr style=\"border: none;\">\n",
              "        <th style=\"padding: 0 1em 0 0.5em; text-align: right; border: none;\">Weight</th>\n",
              "        <th style=\"padding: 0 0.5em 0 0.5em; text-align: left; border: none;\">Feature</th>\n",
              "    </tr>\n",
              "    </thead>\n",
              "    <tbody>\n",
              "    \n",
              "        <tr style=\"background-color: hsl(120, 100.00%, 80.00%); border: none;\">\n",
              "            <td style=\"padding: 0 1em 0 0.5em; text-align: right; border: none;\">\n",
              "                0.0630\n",
              "                \n",
              "                    &plusmn; 0.0096\n",
              "                \n",
              "            </td>\n",
              "            <td style=\"padding: 0 0.5em 0 0.5em; text-align: left; border: none;\">\n",
              "                spend\n",
              "            </td>\n",
              "        </tr>\n",
              "    \n",
              "        <tr style=\"background-color: hsl(120, 100.00%, 80.69%); border: none;\">\n",
              "            <td style=\"padding: 0 1em 0 0.5em; text-align: right; border: none;\">\n",
              "                0.0599\n",
              "                \n",
              "                    &plusmn; 0.0096\n",
              "                \n",
              "            </td>\n",
              "            <td style=\"padding: 0 0.5em 0 0.5em; text-align: left; border: none;\">\n",
              "                cryosleep_true\n",
              "            </td>\n",
              "        </tr>\n",
              "    \n",
              "        <tr style=\"background-color: hsl(120, 100.00%, 84.38%); border: none;\">\n",
              "            <td style=\"padding: 0 1em 0 0.5em; text-align: right; border: none;\">\n",
              "                0.0443\n",
              "                \n",
              "                    &plusmn; 0.0101\n",
              "                \n",
              "            </td>\n",
              "            <td style=\"padding: 0 0.5em 0 0.5em; text-align: left; border: none;\">\n",
              "                foodcourt\n",
              "            </td>\n",
              "        </tr>\n",
              "    \n",
              "        <tr style=\"background-color: hsl(120, 100.00%, 86.61%); border: none;\">\n",
              "            <td style=\"padding: 0 1em 0 0.5em; text-align: right; border: none;\">\n",
              "                0.0355\n",
              "                \n",
              "                    &plusmn; 0.0081\n",
              "                \n",
              "            </td>\n",
              "            <td style=\"padding: 0 0.5em 0 0.5em; text-align: left; border: none;\">\n",
              "                spa\n",
              "            </td>\n",
              "        </tr>\n",
              "    \n",
              "        <tr style=\"background-color: hsl(120, 100.00%, 87.53%); border: none;\">\n",
              "            <td style=\"padding: 0 1em 0 0.5em; text-align: right; border: none;\">\n",
              "                0.0321\n",
              "                \n",
              "                    &plusmn; 0.0056\n",
              "                \n",
              "            </td>\n",
              "            <td style=\"padding: 0 0.5em 0 0.5em; text-align: left; border: none;\">\n",
              "                vrdeck\n",
              "            </td>\n",
              "        </tr>\n",
              "    \n",
              "        <tr style=\"background-color: hsl(120, 100.00%, 91.33%); border: none;\">\n",
              "            <td style=\"padding: 0 1em 0 0.5em; text-align: right; border: none;\">\n",
              "                0.0191\n",
              "                \n",
              "                    &plusmn; 0.0074\n",
              "                \n",
              "            </td>\n",
              "            <td style=\"padding: 0 0.5em 0 0.5em; text-align: left; border: none;\">\n",
              "                roomservice\n",
              "            </td>\n",
              "        </tr>\n",
              "    \n",
              "        <tr style=\"background-color: hsl(120, 100.00%, 92.81%); border: none;\">\n",
              "            <td style=\"padding: 0 1em 0 0.5em; text-align: right; border: none;\">\n",
              "                0.0146\n",
              "                \n",
              "                    &plusmn; 0.0079\n",
              "                \n",
              "            </td>\n",
              "            <td style=\"padding: 0 0.5em 0 0.5em; text-align: left; border: none;\">\n",
              "                cabin_side_s\n",
              "            </td>\n",
              "        </tr>\n",
              "    \n",
              "        <tr style=\"background-color: hsl(120, 100.00%, 93.25%); border: none;\">\n",
              "            <td style=\"padding: 0 1em 0 0.5em; text-align: right; border: none;\">\n",
              "                0.0133\n",
              "                \n",
              "                    &plusmn; 0.0040\n",
              "                \n",
              "            </td>\n",
              "            <td style=\"padding: 0 0.5em 0 0.5em; text-align: left; border: none;\">\n",
              "                cabin_deck_c\n",
              "            </td>\n",
              "        </tr>\n",
              "    \n",
              "        <tr style=\"background-color: hsl(120, 100.00%, 94.13%); border: none;\">\n",
              "            <td style=\"padding: 0 1em 0 0.5em; text-align: right; border: none;\">\n",
              "                0.0109\n",
              "                \n",
              "                    &plusmn; 0.0040\n",
              "                \n",
              "            </td>\n",
              "            <td style=\"padding: 0 0.5em 0 0.5em; text-align: left; border: none;\">\n",
              "                shoppingmall\n",
              "            </td>\n",
              "        </tr>\n",
              "    \n",
              "        <tr style=\"background-color: hsl(120, 100.00%, 96.80%); border: none;\">\n",
              "            <td style=\"padding: 0 1em 0 0.5em; text-align: right; border: none;\">\n",
              "                0.0046\n",
              "                \n",
              "                    &plusmn; 0.0033\n",
              "                \n",
              "            </td>\n",
              "            <td style=\"padding: 0 0.5em 0 0.5em; text-align: left; border: none;\">\n",
              "                cabin_deck_e\n",
              "            </td>\n",
              "        </tr>\n",
              "    \n",
              "        <tr style=\"background-color: hsl(120, 100.00%, 96.97%); border: none;\">\n",
              "            <td style=\"padding: 0 1em 0 0.5em; text-align: right; border: none;\">\n",
              "                0.0043\n",
              "                \n",
              "                    &plusmn; 0.0078\n",
              "                \n",
              "            </td>\n",
              "            <td style=\"padding: 0 0.5em 0 0.5em; text-align: left; border: none;\">\n",
              "                cabin_deck_b\n",
              "            </td>\n",
              "        </tr>\n",
              "    \n",
              "        <tr style=\"background-color: hsl(120, 100.00%, 96.97%); border: none;\">\n",
              "            <td style=\"padding: 0 1em 0 0.5em; text-align: right; border: none;\">\n",
              "                0.0043\n",
              "                \n",
              "                    &plusmn; 0.0016\n",
              "                \n",
              "            </td>\n",
              "            <td style=\"padding: 0 0.5em 0 0.5em; text-align: left; border: none;\">\n",
              "                homeplanet_mars\n",
              "            </td>\n",
              "        </tr>\n",
              "    \n",
              "        <tr style=\"background-color: hsl(120, 100.00%, 97.32%); border: none;\">\n",
              "            <td style=\"padding: 0 1em 0 0.5em; text-align: right; border: none;\">\n",
              "                0.0036\n",
              "                \n",
              "                    &plusmn; 0.0039\n",
              "                \n",
              "            </td>\n",
              "            <td style=\"padding: 0 0.5em 0 0.5em; text-align: left; border: none;\">\n",
              "                destination_trappist-1e\n",
              "            </td>\n",
              "        </tr>\n",
              "    \n",
              "        <tr style=\"background-color: hsl(120, 100.00%, 97.96%); border: none;\">\n",
              "            <td style=\"padding: 0 1em 0 0.5em; text-align: right; border: none;\">\n",
              "                0.0024\n",
              "                \n",
              "                    &plusmn; 0.0044\n",
              "                \n",
              "            </td>\n",
              "            <td style=\"padding: 0 0.5em 0 0.5em; text-align: left; border: none;\">\n",
              "                cabin_deck_g\n",
              "            </td>\n",
              "        </tr>\n",
              "    \n",
              "        <tr style=\"background-color: hsl(120, 100.00%, 98.54%); border: none;\">\n",
              "            <td style=\"padding: 0 1em 0 0.5em; text-align: right; border: none;\">\n",
              "                0.0015\n",
              "                \n",
              "                    &plusmn; 0.0056\n",
              "                \n",
              "            </td>\n",
              "            <td style=\"padding: 0 0.5em 0 0.5em; text-align: left; border: none;\">\n",
              "                family_num\n",
              "            </td>\n",
              "        </tr>\n",
              "    \n",
              "        <tr style=\"background-color: hsl(120, 100.00%, 99.61%); border: none;\">\n",
              "            <td style=\"padding: 0 1em 0 0.5em; text-align: right; border: none;\">\n",
              "                0.0002\n",
              "                \n",
              "                    &plusmn; 0.0021\n",
              "                \n",
              "            </td>\n",
              "            <td style=\"padding: 0 0.5em 0 0.5em; text-align: left; border: none;\">\n",
              "                cabin_deck_f\n",
              "            </td>\n",
              "        </tr>\n",
              "    \n",
              "        <tr style=\"background-color: hsl(120, 100.00%, 99.76%); border: none;\">\n",
              "            <td style=\"padding: 0 1em 0 0.5em; text-align: right; border: none;\">\n",
              "                0.0001\n",
              "                \n",
              "                    &plusmn; 0.0009\n",
              "                \n",
              "            </td>\n",
              "            <td style=\"padding: 0 0.5em 0 0.5em; text-align: left; border: none;\">\n",
              "                cabin_deck_d\n",
              "            </td>\n",
              "        </tr>\n",
              "    \n",
              "        <tr style=\"background-color: hsl(0, 100.00%, 100.00%); border: none;\">\n",
              "            <td style=\"padding: 0 1em 0 0.5em; text-align: right; border: none;\">\n",
              "                0\n",
              "                \n",
              "                    &plusmn; 0.0000\n",
              "                \n",
              "            </td>\n",
              "            <td style=\"padding: 0 0.5em 0 0.5em; text-align: left; border: none;\">\n",
              "                vip_true\n",
              "            </td>\n",
              "        </tr>\n",
              "    \n",
              "        <tr style=\"background-color: hsl(0, 100.00%, 100.00%); border: none;\">\n",
              "            <td style=\"padding: 0 1em 0 0.5em; text-align: right; border: none;\">\n",
              "                0\n",
              "                \n",
              "                    &plusmn; 0.0000\n",
              "                \n",
              "            </td>\n",
              "            <td style=\"padding: 0 0.5em 0 0.5em; text-align: left; border: none;\">\n",
              "                cabin_deck_t\n",
              "            </td>\n",
              "        </tr>\n",
              "    \n",
              "        <tr style=\"background-color: hsl(0, 100.00%, 100.00%); border: none;\">\n",
              "            <td style=\"padding: 0 1em 0 0.5em; text-align: right; border: none;\">\n",
              "                0\n",
              "                \n",
              "                    &plusmn; 0.0000\n",
              "                \n",
              "            </td>\n",
              "            <td style=\"padding: 0 0.5em 0 0.5em; text-align: left; border: none;\">\n",
              "                cabin_side_unknown\n",
              "            </td>\n",
              "        </tr>\n",
              "    \n",
              "        <tr style=\"background-color: hsl(0, 100.00%, 99.76%); border: none;\">\n",
              "            <td style=\"padding: 0 1em 0 0.5em; text-align: right; border: none;\">\n",
              "                -0.0001\n",
              "                \n",
              "                    &plusmn; 0.0005\n",
              "                \n",
              "            </td>\n",
              "            <td style=\"padding: 0 0.5em 0 0.5em; text-align: left; border: none;\">\n",
              "                cabin_deck_unknown\n",
              "            </td>\n",
              "        </tr>\n",
              "    \n",
              "        <tr style=\"background-color: hsl(0, 100.00%, 98.96%); border: none;\">\n",
              "            <td style=\"padding: 0 1em 0 0.5em; text-align: right; border: none;\">\n",
              "                -0.0009\n",
              "                \n",
              "                    &plusmn; 0.0071\n",
              "                \n",
              "            </td>\n",
              "            <td style=\"padding: 0 0.5em 0 0.5em; text-align: left; border: none;\">\n",
              "                homeplanet_europa\n",
              "            </td>\n",
              "        </tr>\n",
              "    \n",
              "        <tr style=\"background-color: hsl(0, 100.00%, 98.87%); border: none;\">\n",
              "            <td style=\"padding: 0 1em 0 0.5em; text-align: right; border: none;\">\n",
              "                -0.0010\n",
              "                \n",
              "                    &plusmn; 0.0009\n",
              "                \n",
              "            </td>\n",
              "            <td style=\"padding: 0 0.5em 0 0.5em; text-align: left; border: none;\">\n",
              "                destination_pso j318.5-22\n",
              "            </td>\n",
              "        </tr>\n",
              "    \n",
              "        <tr style=\"background-color: hsl(0, 100.00%, 98.70%); border: none;\">\n",
              "            <td style=\"padding: 0 1em 0 0.5em; text-align: right; border: none;\">\n",
              "                -0.0013\n",
              "                \n",
              "                    &plusmn; 0.0029\n",
              "                \n",
              "            </td>\n",
              "            <td style=\"padding: 0 0.5em 0 0.5em; text-align: left; border: none;\">\n",
              "                age\n",
              "            </td>\n",
              "        </tr>\n",
              "    \n",
              "        <tr style=\"background-color: hsl(0, 100.00%, 98.24%); border: none;\">\n",
              "            <td style=\"padding: 0 1em 0 0.5em; text-align: right; border: none;\">\n",
              "                -0.0020\n",
              "                \n",
              "                    &plusmn; 0.0052\n",
              "                \n",
              "            </td>\n",
              "            <td style=\"padding: 0 0.5em 0 0.5em; text-align: left; border: none;\">\n",
              "                group_num\n",
              "            </td>\n",
              "        </tr>\n",
              "    \n",
              "    \n",
              "    </tbody>\n",
              "</table>\n",
              "    \n",
              "\n",
              "    \n",
              "\n",
              "\n",
              "    \n",
              "\n",
              "    \n",
              "\n",
              "    \n",
              "\n",
              "    \n",
              "\n",
              "    \n",
              "\n",
              "    \n",
              "\n",
              "\n",
              "\n"
            ]
          },
          "metadata": {},
          "execution_count": 72
        }
      ]
    },
    {
      "cell_type": "code",
      "source": [
        "#@title 중요하지 않은 feature 드랍 후 하이퍼파라미터 튜닝\n",
        "clean2 = clean1.drop(['cabin_deck_b', 'destination_trappist-1e', 'cabin_deck_g', 'family_num', 'cabin_deck_f', 'cabin_deck_d',\n",
        "                       'vip_true', 'cabin_deck_t', 'cabin_side_unknown', 'cabin_deck_unknown', 'homeplanet_europa',\n",
        "                       'destination_pso j318.5-22', 'age', 'group_num'], axis=1)\n",
        "clean2.columns"
      ],
      "metadata": {
        "id": "0H_ZctKpENNt",
        "colab": {
          "base_uri": "https://localhost:8080/"
        },
        "outputId": "4e3ddd95-b771-4c80-b35a-d9cac2b24e45"
      },
      "execution_count": null,
      "outputs": [
        {
          "output_type": "execute_result",
          "data": {
            "text/plain": [
              "Index(['transported', 'roomservice', 'foodcourt', 'shoppingmall', 'spa',\n",
              "       'vrdeck', 'spend', 'homeplanet_mars', 'cabin_deck_c', 'cabin_deck_e',\n",
              "       'cabin_side_s', 'cryosleep_true'],\n",
              "      dtype='object')"
            ]
          },
          "metadata": {},
          "execution_count": 83
        }
      ]
    },
    {
      "cell_type": "code",
      "source": [
        "X = clean2.drop('transported', axis=1)\n",
        "y = clean2['transported']\n",
        "\n",
        "X_train, X_test, y_train, y_test = train_test_split(X, y, test_size=0.2, random_state=100)\n",
        "X_tr, X_val, y_tr, y_val = train_test_split(X_train, y_train, test_size=0.2, random_state=100)\n",
        "\n",
        "print(X_train.shape, X_test.shape)\n",
        "print(X_tr.shape, X_val.shape)"
      ],
      "metadata": {
        "colab": {
          "base_uri": "https://localhost:8080/"
        },
        "id": "heBMYuRbKRx_",
        "outputId": "85b25d25-2ad8-4482-d8b1-93b099fdbaab"
      },
      "execution_count": null,
      "outputs": [
        {
          "output_type": "stream",
          "name": "stdout",
          "text": [
            "(6954, 11) (1739, 11)\n",
            "(5563, 11) (1391, 11)\n"
          ]
        }
      ]
    },
    {
      "cell_type": "code",
      "source": [
        "# LGBM\n",
        "# 검색 공간 설정\n",
        "lgbm_search_space = {'n_estimators' : hp.quniform('n_estimators', 100, 1000, 100),\n",
        "                     'max_depth' : hp.quniform('max_depth', 5, 15, 1),                 # 5부터 20까지 간격 1\n",
        "                     'num_leaves' : hp.quniform('num_leaves', 5, 15, 1),\n",
        "                     'min_child_samples' : hp.quniform('min_child_samples', 10, 30, 2),    # 1부터 1까지 간격 1\n",
        "                     'learning_rate' : hp.uniform('learning_rate', 0.01, 0.1),         # 0.01부터 0.2까지 균등분포\n",
        "                     'colsample_bytree' : hp.uniform('colsample_bytree', 0.5, 1)}      # 0.5부터 1까지 균등분포"
      ],
      "metadata": {
        "id": "ax2DRJb6MYG2"
      },
      "execution_count": null,
      "outputs": []
    },
    {
      "cell_type": "code",
      "source": [
        "def objective_func(search_space) :  # 정수형 파라미터는 정수형으로 입력\n",
        "  lgbm_hp = LGBMClassifier(n_estimators=int(search_space['n_estimators']),\n",
        "                           max_depth=int(search_space['max_depth']),    \n",
        "                           num_leaves=int(search_space['num_leaves']),\n",
        "                           min_child_samples=int(search_space['min_child_samples']),\n",
        "                           learning_rate = search_space['learning_rate'],\n",
        "                           colsample_bytree = search_space['colsample_bytree'],\n",
        "                           eval_metric='logloss')\n",
        "  \n",
        "  # cross_val_score로 교차검증의 accuracy 점수 계산\n",
        "  accuracy = cross_val_score(lgbm_hp, X_train, y_train, scoring='accuracy', cv=5)\n",
        "  \n",
        "  # accuracy는 높을수록 좋기 때문에 교차검증의 평균 accuracy에 -1 곱해줌\n",
        "  return {'loss':-1 * np.mean(accuracy), 'status':STATUS_OK}"
      ],
      "metadata": {
        "id": "3gPTPKKdMDTK"
      },
      "execution_count": null,
      "outputs": []
    },
    {
      "cell_type": "code",
      "source": [
        "from hyperopt import fmin, tpe, Trials\n",
        "\n",
        "trial_val = Trials()\n",
        "\n",
        "# 100회 반복\n",
        "best = fmin(fn = objective_func,\n",
        "            space = lgbm_search_space,\n",
        "            algo = tpe.suggest,     \n",
        "            max_evals = 100,\n",
        "            trials=trial_val)\n",
        "\n",
        "print('best :', best)"
      ],
      "metadata": {
        "colab": {
          "base_uri": "https://localhost:8080/"
        },
        "id": "pEbPl8fgMuaP",
        "outputId": "e8fbb6a3-39f6-4e05-fc07-cae0a40a8a4c"
      },
      "execution_count": null,
      "outputs": [
        {
          "output_type": "stream",
          "name": "stdout",
          "text": [
            "100%|██████████| 100/100 [03:22<00:00,  2.02s/it, best loss: -0.8019854253189826]\n",
            "best : {'colsample_bytree': 0.9351339511685592, 'learning_rate': 0.035803217873308396, 'max_depth': 8.0, 'min_child_samples': 12.0, 'n_estimators': 400.0, 'num_leaves': 8.0}\n"
          ]
        }
      ]
    },
    {
      "cell_type": "code",
      "source": [
        "lgbm_model2 = LGBMClassifier(colsample_bytree = 0.9351, learning_rate = 0.0358, max_depth = 8, \n",
        "                             min_child_samples = 12, n_estimators = 400, num_leaves = 8)\n",
        "\n",
        "evals = [(X_tr, y_tr), (X_val, y_val)]\n",
        "lgbm_model2.fit(X_tr, y_tr, eval_set=evals, eval_metric='logloss', early_stopping_rounds=200, verbose=False)\n",
        "\n",
        "lgbm_pred2 = lgbm_model2.predict(X_test)"
      ],
      "metadata": {
        "id": "p26P2RmzOk7b"
      },
      "execution_count": null,
      "outputs": []
    },
    {
      "cell_type": "code",
      "source": [
        "# 과적합 완화(80.7 -> 81.8), 모델 성능은 거의 차이 없음(80.7 -> 80.5)\n",
        "eval_model(y_test, lgbm_pred2, lgbm_model2)"
      ],
      "metadata": {
        "colab": {
          "base_uri": "https://localhost:8080/",
          "height": 623
        },
        "id": "Lxl6dspmPtGo",
        "outputId": "ac4f4d2c-5c64-4a5d-8821-9e29a1292cbf"
      },
      "execution_count": null,
      "outputs": [
        {
          "output_type": "stream",
          "name": "stdout",
          "text": [
            "accuracy_score : 0.805635\n",
            "roc-auc score  : 0.885959\n",
            "\n",
            "-- confusion matrix --\n"
          ]
        },
        {
          "output_type": "display_data",
          "data": {
            "text/plain": [
              "<Figure size 432x288 with 2 Axes>"
            ],
            "image/png": "[encoded data removed]"
          },
          "metadata": {
            "needs_background": "light"
          }
        },
        {
          "output_type": "stream",
          "name": "stdout",
          "text": [
            "\n",
            "type I error probabilty  : 0.233471\n",
            "type II error probabilty : 0.145266\n",
            "\n",
            "\n",
            "-- classification report --\n",
            "              precision    recall  f1-score   support\n",
            "\n",
            "           0       0.85      0.74      0.80       885\n",
            "           1       0.77      0.87      0.81       854\n",
            "\n",
            "    accuracy                           0.81      1739\n",
            "   macro avg       0.81      0.81      0.81      1739\n",
            "weighted avg       0.81      0.81      0.81      1739\n",
            "\n"
          ]
        }
      ]
    },
    {
      "cell_type": "code",
      "source": [
        "accuracy_score(y_train, lgbm_model2.predict(X_train))"
      ],
      "metadata": {
        "colab": {
          "base_uri": "https://localhost:8080/"
        },
        "id": "zcWiLPaIQCfc",
        "outputId": "f0433ead-df42-4f7c-cb4e-03d0250db15a"
      },
      "execution_count": null,
      "outputs": [
        {
          "output_type": "execute_result",
          "data": {
            "text/plain": [
              "0.8180903077365546"
            ]
          },
          "metadata": {},
          "execution_count": 103
        }
      ]
    },
    {
      "cell_type": "code",
      "source": [
        "# LGBM\n",
        "from sklearn.model_selection import RandomizedSearchCV\n",
        "\n",
        "lgbm_model3 = LGBMClassifier(random_state=100)\n",
        "\n",
        "parameters = {'num_leaves':[20,40,60,80,100], 'min_child_samples':[5,10,15], 'max_depth':[-1,5,10,20],\n",
        "             'learning_rate':[0.05,0.1,0.2], 'reg_alpha':[0,0.01,0.03]}\n",
        "\n",
        "grid_lgbm = RandomizedSearchCV(lgbm_model3, parameters,scoring='accuracy', n_iter=100)\n",
        "grid_lgbm.fit(X_train, y_train)\n",
        "print(grid_lgbm.best_params_)\n",
        "lgbm_pred3 = grid_lgbm.predict(X_test)\n",
        "print('Classification of the result is:')\n",
        "print(accuracy_score(y_test, lgbm_pred3))"
      ],
      "metadata": {
        "colab": {
          "base_uri": "https://localhost:8080/"
        },
        "id": "LxwYxm0YRMc4",
        "outputId": "c9ea5138-eefb-4c5d-d8ea-b6b73b408abd"
      },
      "execution_count": null,
      "outputs": [
        {
          "output_type": "stream",
          "name": "stdout",
          "text": [
            "{'reg_alpha': 0, 'num_leaves': 40, 'min_child_samples': 5, 'max_depth': 5, 'learning_rate': 0.05}\n",
            "Classification of the result is:\n",
            "0.8067855089131685\n"
          ]
        }
      ]
    },
    {
      "cell_type": "code",
      "source": [
        "lgbm_model3 = LGBMClassifier(reg_alpha = 0, num_leaves = 40, min_child_samples = 5, max_depth = 5, learning_rate = 0.05)\n",
        "\n",
        "evals = [(X_tr, y_tr), (X_val, y_val)]\n",
        "lgbm_model3.fit(X_tr, y_tr, eval_set=evals, eval_metric='logloss', early_stopping_rounds=200, verbose=False)\n",
        "\n",
        "lgbm_pred3 = lgbm_model3.predict(X_test)"
      ],
      "metadata": {
        "id": "0VsU0eKEYI4d"
      },
      "execution_count": null,
      "outputs": []
    },
    {
      "cell_type": "code",
      "source": [
        "eval_model(y_test, lgbm_pred3, lgbm_model3)"
      ],
      "metadata": {
        "colab": {
          "base_uri": "https://localhost:8080/",
          "height": 623
        },
        "id": "BIZ7g4ZuSl45",
        "outputId": "225bc966-734c-4afe-f61c-bff083ce0c18"
      },
      "execution_count": null,
      "outputs": [
        {
          "output_type": "stream",
          "name": "stdout",
          "text": [
            "accuracy_score : 0.802760\n",
            "roc-auc score  : 0.883953\n",
            "\n",
            "-- confusion matrix --\n"
          ]
        },
        {
          "output_type": "display_data",
          "data": {
            "text/plain": [
              "<Figure size 432x288 with 2 Axes>"
            ],
            "image/png": "[encoded data removed]"
          },
          "metadata": {
            "needs_background": "light"
          }
        },
        {
          "output_type": "stream",
          "name": "stdout",
          "text": [
            "\n",
            "type I error probabilty  : 0.237949\n",
            "type II error probabilty : 0.145288\n",
            "\n",
            "\n",
            "-- classification report --\n",
            "              precision    recall  f1-score   support\n",
            "\n",
            "           0       0.85      0.74      0.79       885\n",
            "           1       0.76      0.87      0.81       854\n",
            "\n",
            "    accuracy                           0.80      1739\n",
            "   macro avg       0.81      0.80      0.80      1739\n",
            "weighted avg       0.81      0.80      0.80      1739\n",
            "\n"
          ]
        }
      ]
    },
    {
      "cell_type": "code",
      "source": [
        "accuracy_score(y_train, lgbm_model3.predict(X_train))"
      ],
      "metadata": {
        "colab": {
          "base_uri": "https://localhost:8080/"
        },
        "id": "qBmc01foXHYc",
        "outputId": "94ced923-c98b-41b0-a8f3-09d2fa17023f"
      },
      "execution_count": null,
      "outputs": [
        {
          "output_type": "execute_result",
          "data": {
            "text/plain": [
              "0.8189531205061835"
            ]
          },
          "metadata": {},
          "execution_count": 134
        }
      ]
    },
    {
      "cell_type": "code",
      "source": [
        "# XGBoost\n",
        "import xgboost as xgb\n",
        "\n",
        "param_xgb = {\n",
        "    'learning_rate': [0.01, 0.05, 0.1, 0.3], # 경사하강법 : '매개변수' -> 최소오차 -> 보폭 크기\n",
        "    'max_depth': [3], # 트리의 깊이 (오버피팅 방지)\n",
        "    'subsample': [0.3, 0.5, 0.7, 1], # 추출할 데이터 비율\n",
        "    'n_estimators': [300, 600, 1000] # 트리 개수\n",
        "}"
      ],
      "metadata": {
        "id": "h4Tb_Jt4T9Mw"
      },
      "execution_count": null,
      "outputs": []
    },
    {
      "cell_type": "code",
      "source": [
        "model_xgb = xgb.XGBClassifier()\n",
        "gs_model_xgb = GridSearchCV(model_xgb, param_xgb, n_jobs=-1, scoring='f1', cv = 5)\n",
        "gs_model_xgb.fit(X_train, y_train)"
      ],
      "metadata": {
        "colab": {
          "base_uri": "https://localhost:8080/"
        },
        "id": "rMKPIJ3RU01b",
        "outputId": "c60686bf-5852-4759-8bb0-e9ee6e97c81b"
      },
      "execution_count": null,
      "outputs": [
        {
          "output_type": "execute_result",
          "data": {
            "text/plain": [
              "GridSearchCV(cv=5, estimator=XGBClassifier(), n_jobs=-1,\n",
              "             param_grid={'learning_rate': [0.01, 0.05, 0.1, 0.3],\n",
              "                         'max_depth': [3], 'n_estimators': [300, 600, 1000],\n",
              "                         'subsample': [0.3, 0.5, 0.7, 1]},\n",
              "             scoring='f1')"
            ]
          },
          "metadata": {},
          "execution_count": 124
        }
      ]
    },
    {
      "cell_type": "code",
      "source": [
        "print(f'최적 XGB 파라미터 : {gs_model_xgb.best_params_}')\n",
        "print(f'XGB 예측정확도 : {gs_model_xgb.best_score_}')"
      ],
      "metadata": {
        "colab": {
          "base_uri": "https://localhost:8080/"
        },
        "id": "YXOcfRfrXTab",
        "outputId": "d69eec99-9d59-4e99-dfca-3239ff535085"
      },
      "execution_count": null,
      "outputs": [
        {
          "output_type": "stream",
          "name": "stdout",
          "text": [
            "최적 XGB 파라미터 : {'learning_rate': 0.01, 'max_depth': 3, 'n_estimators': 1000, 'subsample': 0.7}\n",
            "XGB 예측정확도 : 0.8120759475016148\n"
          ]
        }
      ]
    },
    {
      "cell_type": "code",
      "source": [
        "xgb_model = xgb.XGBClassifier(learning_rate = 0.01, max_depth = 3, n_estimators = 1000, subsample = 0.7)\n",
        "\n",
        "evals = [(X_tr, y_tr), (X_val, y_val)]\n",
        "xgb_model.fit(X_tr, y_tr, eval_set=evals, eval_metric='logloss', early_stopping_rounds=200, verbose=False)\n",
        "\n",
        "xgb_pred = xgb_model.predict(X_test)"
      ],
      "metadata": {
        "id": "jfALQr2kXW05"
      },
      "execution_count": null,
      "outputs": []
    },
    {
      "cell_type": "code",
      "source": [
        "eval_model(y_test, xgb_pred, xgb_model)"
      ],
      "metadata": {
        "colab": {
          "base_uri": "https://localhost:8080/",
          "height": 623
        },
        "id": "GfmdtUi0XeF1",
        "outputId": "0380032e-6819-4567-f7ce-96d883ea8f96"
      },
      "execution_count": null,
      "outputs": [
        {
          "output_type": "stream",
          "name": "stdout",
          "text": [
            "accuracy_score : 0.799885\n",
            "roc-auc score  : 0.886953\n",
            "\n",
            "-- confusion matrix --\n"
          ]
        },
        {
          "output_type": "display_data",
          "data": {
            "text/plain": [
              "<Figure size 432x288 with 2 Axes>"
            ],
            "image/png": "[encoded data removed]"
          },
          "metadata": {
            "needs_background": "light"
          }
        },
        {
          "output_type": "stream",
          "name": "stdout",
          "text": [
            "\n",
            "type I error probabilty  : 0.243408\n",
            "type II error probabilty : 0.143426\n",
            "\n",
            "\n",
            "-- classification report --\n",
            "              precision    recall  f1-score   support\n",
            "\n",
            "           0       0.86      0.73      0.79       885\n",
            "           1       0.76      0.87      0.81       854\n",
            "\n",
            "    accuracy                           0.80      1739\n",
            "   macro avg       0.81      0.80      0.80      1739\n",
            "weighted avg       0.81      0.80      0.80      1739\n",
            "\n"
          ]
        }
      ]
    },
    {
      "cell_type": "code",
      "source": [
        "accuracy_score(y_train, xgb_model.predict(X_train))"
      ],
      "metadata": {
        "colab": {
          "base_uri": "https://localhost:8080/"
        },
        "id": "ECjMLulzZsD7",
        "outputId": "79ffe6fa-2ef9-4281-84d6-bb0c025c879a"
      },
      "execution_count": null,
      "outputs": [
        {
          "output_type": "execute_result",
          "data": {
            "text/plain": [
              "0.8097497842968076"
            ]
          },
          "metadata": {},
          "execution_count": 137
        }
      ]
    },
    {
      "cell_type": "code",
      "source": [
        "#@title 결과 정리\n",
        "\n",
        "results = pd.DataFrame({'Random Forest(최초)' : [0.797, 0.88, 0.8474],\n",
        "                        'LGBM (최초)' : [0.8074, 0.8924, 0.8441],\n",
        "                        'Random Forest(H.O 조정)' : [0.8039, 0.8854, 0.8198],\n",
        "                        'LGBM (H.O 조정)' : [0.8056, 0.886, 0.8181],\n",
        "                        'Random Forest(GS CV 조정)' : [0.8056, 0.8832, 0.82],\n",
        "                        'LGBM (Rando GS CV 조정)' : [0.8028, 0.8832, 0.82],\n",
        "                        'XGBoost (GS CV 조정)' : [0.8, 0.8832, 0.82]}, \n",
        "                       index = ['Accuracy', 'ROC-AUC Score', '훈련 set Accuracy'])\n",
        "results"
      ],
      "metadata": {
        "colab": {
          "base_uri": "https://localhost:8080/",
          "height": 239
        },
        "id": "ZjCXsFPsWBst",
        "outputId": "84aa52b5-f993-455c-a273-2ad79a9678fb"
      },
      "execution_count": null,
      "outputs": [
        {
          "output_type": "execute_result",
          "data": {
            "text/plain": [
              "                 Random Forest(최초)  LGBM (최초)  Random Forest(H.O 조정)  \\\n",
              "Accuracy                    0.7970     0.8074                 0.8039   \n",
              "ROC-AUC Score               0.8800     0.8924                 0.8854   \n",
              "훈련 set Accuracy             0.8474     0.8441                 0.8198   \n",
              "\n",
              "                 LGBM (H.O 조정)  Random Forest(GS CV 조정)  \\\n",
              "Accuracy                0.8056                   0.8056   \n",
              "ROC-AUC Score           0.8860                   0.8832   \n",
              "훈련 set Accuracy         0.8181                   0.8200   \n",
              "\n",
              "                 LGBM (Rando GS CV 조정)  XGBoost (GS CV 조정)  \n",
              "Accuracy                        0.8028              0.8000  \n",
              "ROC-AUC Score                   0.8832              0.8832  \n",
              "훈련 set Accuracy                 0.8200              0.8200  "
            ],
            "text/html": [
              "\n",
              "  <div id=\"df-37b7141e-da89-4954-b7cd-bf89d7c2e0e8\">\n",
              "    <div class=\"colab-df-container\">\n",
              "      <div>\n",
              "<style scoped>\n",
              "    .dataframe tbody tr th:only-of-type {\n",
              "        vertical-align: middle;\n",
              "    }\n",
              "\n",
              "    .dataframe tbody tr th {\n",
              "        vertical-align: top;\n",
              "    }\n",
              "\n",
              "    .dataframe thead th {\n",
              "        text-align: right;\n",
              "    }\n",
              "</style>\n",
              "<table border=\"1\" class=\"dataframe\">\n",
              "  <thead>\n",
              "    <tr style=\"text-align: right;\">\n",
              "      <th></th>\n",
              "      <th>Random Forest(최초)</th>\n",
              "      <th>LGBM (최초)</th>\n",
              "      <th>Random Forest(H.O 조정)</th>\n",
              "      <th>LGBM (H.O 조정)</th>\n",
              "      <th>Random Forest(GS CV 조정)</th>\n",
              "      <th>LGBM (Rando GS CV 조정)</th>\n",
              "      <th>XGBoost (GS CV 조정)</th>\n",
              "    </tr>\n",
              "  </thead>\n",
              "  <tbody>\n",
              "    <tr>\n",
              "      <th>Accuracy</th>\n",
              "      <td>0.7970</td>\n",
              "      <td>0.8074</td>\n",
              "      <td>0.8039</td>\n",
              "      <td>0.8056</td>\n",
              "      <td>0.8056</td>\n",
              "      <td>0.8028</td>\n",
              "      <td>0.8000</td>\n",
              "    </tr>\n",
              "    <tr>\n",
              "      <th>ROC-AUC Score</th>\n",
              "      <td>0.8800</td>\n",
              "      <td>0.8924</td>\n",
              "      <td>0.8854</td>\n",
              "      <td>0.8860</td>\n",
              "      <td>0.8832</td>\n",
              "      <td>0.8832</td>\n",
              "      <td>0.8832</td>\n",
              "    </tr>\n",
              "    <tr>\n",
              "      <th>훈련 set Accuracy</th>\n",
              "      <td>0.8474</td>\n",
              "      <td>0.8441</td>\n",
              "      <td>0.8198</td>\n",
              "      <td>0.8181</td>\n",
              "      <td>0.8200</td>\n",
              "      <td>0.8200</td>\n",
              "      <td>0.8200</td>\n",
              "    </tr>\n",
              "  </tbody>\n",
              "</table>\n",
              "</div>\n",
              "      <button class=\"colab-df-convert\" onclick=\"convertToInteractive('df-37b7141e-da89-4954-b7cd-bf89d7c2e0e8')\"\n",
              "              title=\"Convert this dataframe to an interactive table.\"\n",
              "              style=\"display:none;\">\n",
              "        \n",
              "  <svg xmlns=\"http://www.w3.org/2000/svg\" height=\"24px\"viewBox=\"0 0 24 24\"\n",
              "       width=\"24px\">\n",
              "    <path d=\"M0 0h24v24H0V0z\" fill=\"none\"/>\n",
              "    <path d=\"M18.56 5.44l.94 2.06.94-2.06 2.06-.94-2.06-.94-.94-2.06-.94 2.06-2.06.94zm-11 1L8.5 8.5l.94-2.06 2.06-.94-2.06-.94L8.5 2.5l-.94 2.06-2.06.94zm10 10l.94 2.06.94-2.06 2.06-.94-2.06-.94-.94-2.06-.94 2.06-2.06.94z\"/><path d=\"M17.41 7.96l-1.37-1.37c-.4-.4-.92-.59-1.43-.59-.52 0-1.04.2-1.43.59L10.3 9.45l-7.72 7.72c-.78.78-.78 2.05 0 2.83L4 21.41c.39.39.9.59 1.41.59.51 0 1.02-.2 1.41-.59l7.78-7.78 2.81-2.81c.8-.78.8-2.07 0-2.86zM5.41 20L4 18.59l7.72-7.72 1.47 1.35L5.41 20z\"/>\n",
              "  </svg>\n",
              "      </button>\n",
              "      \n",
              "  <style>\n",
              "    .colab-df-container {\n",
              "      display:flex;\n",
              "      flex-wrap:wrap;\n",
              "      gap: 12px;\n",
              "    }\n",
              "\n",
              "    .colab-df-convert {\n",
              "      background-color: #E8F0FE;\n",
              "      border: none;\n",
              "      border-radius: 50%;\n",
              "      cursor: pointer;\n",
              "      display: none;\n",
              "      fill: #1967D2;\n",
              "      height: 32px;\n",
              "      padding: 0 0 0 0;\n",
              "      width: 32px;\n",
              "    }\n",
              "\n",
              "    .colab-df-convert:hover {\n",
              "      background-color: #E2EBFA;\n",
              "      box-shadow: 0px 1px 2px rgba(60, 64, 67, 0.3), 0px 1px 3px 1px rgba(60, 64, 67, 0.15);\n",
              "      fill: #174EA6;\n",
              "    }\n",
              "\n",
              "    [theme=dark] .colab-df-convert {\n",
              "      background-color: #3B4455;\n",
              "      fill: #D2E3FC;\n",
              "    }\n",
              "\n",
              "    [theme=dark] .colab-df-convert:hover {\n",
              "      background-color: #434B5C;\n",
              "      box-shadow: 0px 1px 3px 1px rgba(0, 0, 0, 0.15);\n",
              "      filter: drop-shadow(0px 1px 2px rgba(0, 0, 0, 0.3));\n",
              "      fill: #FFFFFF;\n",
              "    }\n",
              "  </style>\n",
              "\n",
              "      <script>\n",
              "        const buttonEl =\n",
              "          document.querySelector('#df-37b7141e-da89-4954-b7cd-bf89d7c2e0e8 button.colab-df-convert');\n",
              "        buttonEl.style.display =\n",
              "          google.colab.kernel.accessAllowed ? 'block' : 'none';\n",
              "\n",
              "        async function convertToInteractive(key) {\n",
              "          const element = document.querySelector('#df-37b7141e-da89-4954-b7cd-bf89d7c2e0e8');\n",
              "          const dataTable =\n",
              "            await google.colab.kernel.invokeFunction('convertToInteractive',\n",
              "                                                     [key], {});\n",
              "          if (!dataTable) return;\n",
              "\n",
              "          const docLinkHtml = 'Like what you see? Visit the ' +\n",
              "            '<a target=\"_blank\" href=https://colab.research.google.com/notebooks/data_table.ipynb>data table notebook</a>'\n",
              "            + ' to learn more about interactive tables.';\n",
              "          element.innerHTML = '';\n",
              "          dataTable['output_type'] = 'display_data';\n",
              "          await google.colab.output.renderOutput(dataTable, element);\n",
              "          const docLink = document.createElement('div');\n",
              "          docLink.innerHTML = docLinkHtml;\n",
              "          element.appendChild(docLink);\n",
              "        }\n",
              "      </script>\n",
              "    </div>\n",
              "  </div>\n",
              "  "
            ]
          },
          "metadata": {},
          "execution_count": 139
        }
      ]
    },
    {
      "cell_type": "code",
      "source": [],
      "metadata": {
        "id": "ABRucnl8U-3m"
      },
      "execution_count": null,
      "outputs": []
    }
  ]
}